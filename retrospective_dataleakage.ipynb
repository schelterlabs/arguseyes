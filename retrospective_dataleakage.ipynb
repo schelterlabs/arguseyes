{
 "cells": [
  {
   "cell_type": "markdown",
   "metadata": {},
   "source": [
    "# Retrospective analysis of data leakage in a price prediction pipeline\n",
    "\n",
    "This example evolves around an [ML pipeline for predicting the price of taxi rides](https://github.com/schelterlabs/arguseyes-example/blob/main/pipelines/mlflow-regression-nyctaxifare.py), based on a sample from the [New York City Taxi Fare Prediction](https://www.kaggle.com/competitions/new-york-city-taxi-fare-prediction/data) dataset. The pipeline computes additional features, splits the data into train and testset based on date information, and learns a **regression model to predict the fare of a ride**, based on attributes such as the **pickup time**, **dropoff time**, **trip_distance** and the **zip codes** of the pickup and dropoff locations.\n",
    "\n",
    "When screening this pipeline on Github with this [configuration](https://github.com/schelterlabs/arguseyes-example/blob/main/mlflow-regression-nyctaxifare-dataleakage.yaml), ArgusEyes detects a **data leakage problem** in the pipeline. The screenshot shows the result of the [screening during the build triggered by a Github action](https://github.com/schelterlabs/arguseyes-example/actions/runs/3523396218/jobs/5907507086): There are **177 input tuples which leaked from the train set to the test set**.\n",
    "\n",
    "In the following, we show how to **leverage ArgusEyes to retrospectively analyze the pipeline run** (based on metadata and captured data artifacts), and **figure out the root cause of the data leakage issue**."
   ]
  },
  {
   "cell_type": "markdown",
   "metadata": {},
   "source": [
    "![data-leakage-screening-via-a-github-action](github-action-dataleakage-screening.png)"
   ]
  },
  {
   "cell_type": "markdown",
   "metadata": {},
   "source": [
    "### Load the metadata and artifacts from the original run of the pipeline\n",
    "\n",
    "ArgusEyes needs the run id from the mlflow run where ArgusEyes stored the metadata and artifacts. (Note we use a local run here for demo purposes)."
   ]
  },
  {
   "cell_type": "code",
   "execution_count": 14,
   "metadata": {},
   "outputs": [],
   "source": [
    "from arguseyes.retrospective import PipelineRun, DataLeakageRetrospective"
   ]
  },
  {
   "cell_type": "code",
   "execution_count": 15,
   "metadata": {},
   "outputs": [],
   "source": [
    "run_id = 'bc07e7b4c8c54ee694078030860649b2'\n",
    "\n",
    "run = PipelineRun(run_id=run_id)"
   ]
  },
  {
   "cell_type": "markdown",
   "metadata": {},
   "source": [
    "### Interactively explore the dataflow plan and data of the pipeline run\n",
    "\n",
    "We can view a dataflow plan of the pipeline, which highlights the input datasets, as well as the features and labels for the train and test data computed by the pipeline. We can interactively explore the pipeline data. Clicking on the pink data vertices provides us with details about the corresponding data."
   ]
  },
  {
   "cell_type": "code",
   "execution_count": 18,
   "metadata": {},
   "outputs": [
    {
     "data": {
      "text/markdown": [
       "# Pipeline Data Explorer"
      ],
      "text/plain": [
       "<IPython.core.display.Markdown object>"
      ]
     },
     "metadata": {},
     "output_type": "display_data"
    },
    {
     "data": {
      "application/vnd.jupyter.widget-view+json": {
       "model_id": "dce3694fb3bf42f787d986e944a39b78",
       "version_major": 2,
       "version_minor": 0
      },
      "text/plain": [
       "HBox(children=(CytoscapeWidget(cytoscape_layout={'name': 'dagre'}, cytoscape_style=[{'selector': 'node', 'css'…"
      ]
     },
     "metadata": {},
     "output_type": "display_data"
    }
   ],
   "source": [
    "run.explore_data()"
   ]
  },
  {
   "cell_type": "markdown",
   "metadata": {},
   "source": [
    "## Retrospective analysis of the data leakage issue\n",
    "\n",
    "ArgusEyes allows us to instantiate a special `DataLeakageRetrospective`, which helps us analyze data leakage problems from a pipeline run"
   ]
  },
  {
   "cell_type": "code",
   "execution_count": 19,
   "metadata": {},
   "outputs": [],
   "source": [
    "retrospective = DataLeakageRetrospective(run)"
   ]
  },
  {
   "cell_type": "markdown",
   "metadata": {},
   "source": [
    "### Materialize leaked tuples\n",
    "\n",
    "We can compute the tuples that were leaked between the train and test set"
   ]
  },
  {
   "cell_type": "code",
   "execution_count": 20,
   "metadata": {},
   "outputs": [
    {
     "data": {
      "text/html": [
       "<div>\n",
       "<style scoped>\n",
       "    .dataframe tbody tr th:only-of-type {\n",
       "        vertical-align: middle;\n",
       "    }\n",
       "\n",
       "    .dataframe tbody tr th {\n",
       "        vertical-align: top;\n",
       "    }\n",
       "\n",
       "    .dataframe thead th {\n",
       "        text-align: right;\n",
       "    }\n",
       "</style>\n",
       "<table border=\"1\" class=\"dataframe\">\n",
       "  <thead>\n",
       "    <tr style=\"text-align: right;\">\n",
       "      <th></th>\n",
       "      <th>tpep_pickup_datetime</th>\n",
       "      <th>tpep_dropoff_datetime</th>\n",
       "      <th>trip_distance</th>\n",
       "      <th>fare_amount</th>\n",
       "      <th>pickup_zip</th>\n",
       "      <th>dropoff_zip</th>\n",
       "    </tr>\n",
       "  </thead>\n",
       "  <tbody>\n",
       "    <tr>\n",
       "      <th>37</th>\n",
       "      <td>2016-02-15 01:45:11</td>\n",
       "      <td>2016-02-15 01:48:40</td>\n",
       "      <td>0.60</td>\n",
       "      <td>4.5</td>\n",
       "      <td>10153</td>\n",
       "      <td>10065</td>\n",
       "    </tr>\n",
       "    <tr>\n",
       "      <th>57</th>\n",
       "      <td>2016-02-15 08:51:02</td>\n",
       "      <td>2016-02-15 09:06:27</td>\n",
       "      <td>5.50</td>\n",
       "      <td>17.0</td>\n",
       "      <td>11371</td>\n",
       "      <td>11379</td>\n",
       "    </tr>\n",
       "    <tr>\n",
       "      <th>73</th>\n",
       "      <td>2016-02-15 23:03:19</td>\n",
       "      <td>2016-02-15 23:38:15</td>\n",
       "      <td>11.40</td>\n",
       "      <td>35.0</td>\n",
       "      <td>11371</td>\n",
       "      <td>10011</td>\n",
       "    </tr>\n",
       "    <tr>\n",
       "      <th>77</th>\n",
       "      <td>2016-02-15 16:41:54</td>\n",
       "      <td>2016-02-15 17:38:20</td>\n",
       "      <td>18.43</td>\n",
       "      <td>52.0</td>\n",
       "      <td>11422</td>\n",
       "      <td>10011</td>\n",
       "    </tr>\n",
       "    <tr>\n",
       "      <th>144</th>\n",
       "      <td>2016-02-15 12:44:51</td>\n",
       "      <td>2016-02-15 13:07:39</td>\n",
       "      <td>3.48</td>\n",
       "      <td>16.5</td>\n",
       "      <td>10011</td>\n",
       "      <td>10022</td>\n",
       "    </tr>\n",
       "    <tr>\n",
       "      <th>...</th>\n",
       "      <td>...</td>\n",
       "      <td>...</td>\n",
       "      <td>...</td>\n",
       "      <td>...</td>\n",
       "      <td>...</td>\n",
       "      <td>...</td>\n",
       "    </tr>\n",
       "    <tr>\n",
       "      <th>9016</th>\n",
       "      <td>2016-02-15 21:02:47</td>\n",
       "      <td>2016-02-15 21:05:27</td>\n",
       "      <td>1.06</td>\n",
       "      <td>5.0</td>\n",
       "      <td>10035</td>\n",
       "      <td>10029</td>\n",
       "    </tr>\n",
       "    <tr>\n",
       "      <th>9045</th>\n",
       "      <td>2016-02-15 18:21:15</td>\n",
       "      <td>2016-02-15 18:32:51</td>\n",
       "      <td>1.51</td>\n",
       "      <td>9.0</td>\n",
       "      <td>10119</td>\n",
       "      <td>10103</td>\n",
       "    </tr>\n",
       "    <tr>\n",
       "      <th>9084</th>\n",
       "      <td>2016-02-15 06:46:32</td>\n",
       "      <td>2016-02-15 06:48:29</td>\n",
       "      <td>0.47</td>\n",
       "      <td>3.5</td>\n",
       "      <td>10044</td>\n",
       "      <td>10021</td>\n",
       "    </tr>\n",
       "    <tr>\n",
       "      <th>9113</th>\n",
       "      <td>2016-02-15 11:21:50</td>\n",
       "      <td>2016-02-15 11:27:38</td>\n",
       "      <td>0.84</td>\n",
       "      <td>5.5</td>\n",
       "      <td>10119</td>\n",
       "      <td>10199</td>\n",
       "    </tr>\n",
       "    <tr>\n",
       "      <th>9148</th>\n",
       "      <td>2016-02-15 08:40:44</td>\n",
       "      <td>2016-02-15 08:44:46</td>\n",
       "      <td>0.90</td>\n",
       "      <td>5.5</td>\n",
       "      <td>10014</td>\n",
       "      <td>10014</td>\n",
       "    </tr>\n",
       "  </tbody>\n",
       "</table>\n",
       "<p>177 rows × 6 columns</p>\n",
       "</div>"
      ],
      "text/plain": [
       "     tpep_pickup_datetime tpep_dropoff_datetime  trip_distance  fare_amount  \\\n",
       "37    2016-02-15 01:45:11   2016-02-15 01:48:40           0.60          4.5   \n",
       "57    2016-02-15 08:51:02   2016-02-15 09:06:27           5.50         17.0   \n",
       "73    2016-02-15 23:03:19   2016-02-15 23:38:15          11.40         35.0   \n",
       "77    2016-02-15 16:41:54   2016-02-15 17:38:20          18.43         52.0   \n",
       "144   2016-02-15 12:44:51   2016-02-15 13:07:39           3.48         16.5   \n",
       "...                   ...                   ...            ...          ...   \n",
       "9016  2016-02-15 21:02:47   2016-02-15 21:05:27           1.06          5.0   \n",
       "9045  2016-02-15 18:21:15   2016-02-15 18:32:51           1.51          9.0   \n",
       "9084  2016-02-15 06:46:32   2016-02-15 06:48:29           0.47          3.5   \n",
       "9113  2016-02-15 11:21:50   2016-02-15 11:27:38           0.84          5.5   \n",
       "9148  2016-02-15 08:40:44   2016-02-15 08:44:46           0.90          5.5   \n",
       "\n",
       "      pickup_zip  dropoff_zip  \n",
       "37         10153        10065  \n",
       "57         11371        11379  \n",
       "73         11371        10011  \n",
       "77         11422        10011  \n",
       "144        10011        10022  \n",
       "...          ...          ...  \n",
       "9016       10035        10029  \n",
       "9045       10119        10103  \n",
       "9084       10044        10021  \n",
       "9113       10119        10199  \n",
       "9148       10014        10014  \n",
       "\n",
       "[177 rows x 6 columns]"
      ]
     },
     "execution_count": 20,
     "metadata": {},
     "output_type": "execute_result"
    }
   ],
   "source": [
    "leaked_data = retrospective.compute_leaked_tuples()\n",
    "leaked_data"
   ]
  },
  {
   "cell_type": "code",
   "execution_count": 20,
   "metadata": {},
   "outputs": [
    {
     "data": {
      "text/html": [
       "<div>\n",
       "<style scoped>\n",
       "    .dataframe tbody tr th:only-of-type {\n",
       "        vertical-align: middle;\n",
       "    }\n",
       "\n",
       "    .dataframe tbody tr th {\n",
       "        vertical-align: top;\n",
       "    }\n",
       "\n",
       "    .dataframe thead th {\n",
       "        text-align: right;\n",
       "    }\n",
       "</style>\n",
       "<table border=\"1\" class=\"dataframe\">\n",
       "  <thead>\n",
       "    <tr style=\"text-align: right;\">\n",
       "      <th></th>\n",
       "      <th>tpep_pickup_datetime</th>\n",
       "      <th>tpep_dropoff_datetime</th>\n",
       "      <th>trip_distance</th>\n",
       "      <th>fare_amount</th>\n",
       "      <th>pickup_zip</th>\n",
       "      <th>dropoff_zip</th>\n",
       "    </tr>\n",
       "  </thead>\n",
       "  <tbody>\n",
       "    <tr>\n",
       "      <th>37</th>\n",
       "      <td>2016-02-15 01:45:11</td>\n",
       "      <td>2016-02-15 01:48:40</td>\n",
       "      <td>0.60</td>\n",
       "      <td>4.5</td>\n",
       "      <td>10153</td>\n",
       "      <td>10065</td>\n",
       "    </tr>\n",
       "    <tr>\n",
       "      <th>57</th>\n",
       "      <td>2016-02-15 08:51:02</td>\n",
       "      <td>2016-02-15 09:06:27</td>\n",
       "      <td>5.50</td>\n",
       "      <td>17.0</td>\n",
       "      <td>11371</td>\n",
       "      <td>11379</td>\n",
       "    </tr>\n",
       "    <tr>\n",
       "      <th>73</th>\n",
       "      <td>2016-02-15 23:03:19</td>\n",
       "      <td>2016-02-15 23:38:15</td>\n",
       "      <td>11.40</td>\n",
       "      <td>35.0</td>\n",
       "      <td>11371</td>\n",
       "      <td>10011</td>\n",
       "    </tr>\n",
       "    <tr>\n",
       "      <th>77</th>\n",
       "      <td>2016-02-15 16:41:54</td>\n",
       "      <td>2016-02-15 17:38:20</td>\n",
       "      <td>18.43</td>\n",
       "      <td>52.0</td>\n",
       "      <td>11422</td>\n",
       "      <td>10011</td>\n",
       "    </tr>\n",
       "    <tr>\n",
       "      <th>144</th>\n",
       "      <td>2016-02-15 12:44:51</td>\n",
       "      <td>2016-02-15 13:07:39</td>\n",
       "      <td>3.48</td>\n",
       "      <td>16.5</td>\n",
       "      <td>10011</td>\n",
       "      <td>10022</td>\n",
       "    </tr>\n",
       "    <tr>\n",
       "      <th>...</th>\n",
       "      <td>...</td>\n",
       "      <td>...</td>\n",
       "      <td>...</td>\n",
       "      <td>...</td>\n",
       "      <td>...</td>\n",
       "      <td>...</td>\n",
       "    </tr>\n",
       "    <tr>\n",
       "      <th>9016</th>\n",
       "      <td>2016-02-15 21:02:47</td>\n",
       "      <td>2016-02-15 21:05:27</td>\n",
       "      <td>1.06</td>\n",
       "      <td>5.0</td>\n",
       "      <td>10035</td>\n",
       "      <td>10029</td>\n",
       "    </tr>\n",
       "    <tr>\n",
       "      <th>9045</th>\n",
       "      <td>2016-02-15 18:21:15</td>\n",
       "      <td>2016-02-15 18:32:51</td>\n",
       "      <td>1.51</td>\n",
       "      <td>9.0</td>\n",
       "      <td>10119</td>\n",
       "      <td>10103</td>\n",
       "    </tr>\n",
       "    <tr>\n",
       "      <th>9084</th>\n",
       "      <td>2016-02-15 06:46:32</td>\n",
       "      <td>2016-02-15 06:48:29</td>\n",
       "      <td>0.47</td>\n",
       "      <td>3.5</td>\n",
       "      <td>10044</td>\n",
       "      <td>10021</td>\n",
       "    </tr>\n",
       "    <tr>\n",
       "      <th>9113</th>\n",
       "      <td>2016-02-15 11:21:50</td>\n",
       "      <td>2016-02-15 11:27:38</td>\n",
       "      <td>0.84</td>\n",
       "      <td>5.5</td>\n",
       "      <td>10119</td>\n",
       "      <td>10199</td>\n",
       "    </tr>\n",
       "    <tr>\n",
       "      <th>9148</th>\n",
       "      <td>2016-02-15 08:40:44</td>\n",
       "      <td>2016-02-15 08:44:46</td>\n",
       "      <td>0.90</td>\n",
       "      <td>5.5</td>\n",
       "      <td>10014</td>\n",
       "      <td>10014</td>\n",
       "    </tr>\n",
       "  </tbody>\n",
       "</table>\n",
       "<p>177 rows × 6 columns</p>\n",
       "</div>"
      ],
      "text/plain": [
       "     tpep_pickup_datetime tpep_dropoff_datetime  trip_distance  fare_amount  \\\n",
       "37    2016-02-15 01:45:11   2016-02-15 01:48:40           0.60          4.5   \n",
       "57    2016-02-15 08:51:02   2016-02-15 09:06:27           5.50         17.0   \n",
       "73    2016-02-15 23:03:19   2016-02-15 23:38:15          11.40         35.0   \n",
       "77    2016-02-15 16:41:54   2016-02-15 17:38:20          18.43         52.0   \n",
       "144   2016-02-15 12:44:51   2016-02-15 13:07:39           3.48         16.5   \n",
       "...                   ...                   ...            ...          ...   \n",
       "9016  2016-02-15 21:02:47   2016-02-15 21:05:27           1.06          5.0   \n",
       "9045  2016-02-15 18:21:15   2016-02-15 18:32:51           1.51          9.0   \n",
       "9084  2016-02-15 06:46:32   2016-02-15 06:48:29           0.47          3.5   \n",
       "9113  2016-02-15 11:21:50   2016-02-15 11:27:38           0.84          5.5   \n",
       "9148  2016-02-15 08:40:44   2016-02-15 08:44:46           0.90          5.5   \n",
       "\n",
       "      pickup_zip  dropoff_zip  \n",
       "37         10153        10065  \n",
       "57         11371        11379  \n",
       "73         11371        10011  \n",
       "77         11422        10011  \n",
       "144        10011        10022  \n",
       "...          ...          ...  \n",
       "9016       10035        10029  \n",
       "9045       10119        10103  \n",
       "9084       10044        10021  \n",
       "9113       10119        10199  \n",
       "9148       10014        10014  \n",
       "\n",
       "[177 rows x 6 columns]"
      ]
     },
     "execution_count": 20,
     "metadata": {},
     "output_type": "execute_result"
    }
   ],
   "source": [
    "run = PipelineRun(run_id='bc07e7b4c8c54ee694078030860649b2')\n",
    "retrospective = DataLeakageRetrospective(run)\n",
    "\n",
    "leaked_data = retrospective.compute_leaked_tuples()\n",
    "leaked_data"
   ]
  },
  {
   "cell_type": "code",
   "execution_count": null,
   "metadata": {},
   "outputs": [],
   "source": []
  },
  {
   "cell_type": "markdown",
   "metadata": {},
   "source": [
    "### Deep dive into leaked tuples\n",
    "\n",
    "In the following, we can explore the leaked tuples in detail in order to find patterns, which help us determine the root cause of the leakage"
   ]
  },
  {
   "cell_type": "code",
   "execution_count": 21,
   "metadata": {},
   "outputs": [
    {
     "data": {
      "text/plain": [
       "count    177.000000\n",
       "mean       3.016497\n",
       "std        3.913846\n",
       "min        0.300000\n",
       "25%        1.000000\n",
       "50%        1.600000\n",
       "75%        2.870000\n",
       "max       19.010000\n",
       "Name: trip_distance, dtype: float64"
      ]
     },
     "execution_count": 21,
     "metadata": {},
     "output_type": "execute_result"
    }
   ],
   "source": [
    "leaked_data.trip_distance.describe()"
   ]
  },
  {
   "cell_type": "code",
   "execution_count": 22,
   "metadata": {},
   "outputs": [
    {
     "data": {
      "text/plain": [
       "2016-02-15    175\n",
       "2016-02-14      2\n",
       "Name: tpep_pickup_datetime, dtype: int64"
      ]
     },
     "execution_count": 22,
     "metadata": {},
     "output_type": "execute_result"
    }
   ],
   "source": [
    "leaked_data.tpep_pickup_datetime.dt.date.value_counts()"
   ]
  },
  {
   "cell_type": "markdown",
   "metadata": {},
   "source": [
    "### Identifying the root cause of the leakage\n",
    "\n",
    "All the leaked tuples share the same day in their dropoff time! This is a strong hint that the data was not split correctly for train/test. Fixing this will remove the data leakage issue in the pipeline."
   ]
  },
  {
   "cell_type": "code",
   "execution_count": 23,
   "metadata": {},
   "outputs": [
    {
     "data": {
      "text/plain": [
       "2016-02-15    177\n",
       "Name: tpep_dropoff_datetime, dtype: int64"
      ]
     },
     "execution_count": 23,
     "metadata": {},
     "output_type": "execute_result"
    }
   ],
   "source": [
    "leaked_data.tpep_dropoff_datetime.dt.date.value_counts()"
   ]
  },
  {
   "cell_type": "code",
   "execution_count": null,
   "metadata": {},
   "outputs": [],
   "source": []
  }
 ],
 "metadata": {
  "kernelspec": {
   "display_name": "Python 3 (ipykernel)",
   "language": "python",
   "name": "python3"
  },
  "language_info": {
   "codemirror_mode": {
    "name": "ipython",
    "version": 3
   },
   "file_extension": ".py",
   "mimetype": "text/x-python",
   "name": "python",
   "nbconvert_exporter": "python",
   "pygments_lexer": "ipython3",
   "version": "3.9.13"
  }
 },
 "nbformat": 4,
 "nbformat_minor": 4
}
