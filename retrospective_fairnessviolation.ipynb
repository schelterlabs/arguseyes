{
 "cells": [
  {
   "cell_type": "markdown",
   "metadata": {},
   "source": [
    "# Retrospective analysis of a fairness violation in an income classification pipeline\n",
    "\n",
    "When screening our [ML pipeline for income classification](https://github.com/schelterlabs/arguseyes-example/blob/main/pipelines/openml-classification-incomelevel.py) on Github with this [configuration](https://github.com/schelterlabs/arguseyes-example/blob/main/openml-classification-incomelevel-fairness.yaml), ArgusEyes detects a **fairness violation** in the pipeline. \n",
    "\n",
    "The screenshot shows the result of the [screening during the build triggered by a Github action](https://github.com/schelterlabs/arguseyes-example/actions/runs/3523396218/jobs/5907507086): The **classifier treats data from non-male person disparately unfair**, with respect to given threshold on the equal opportunity metric.\n",
    "\n",
    "In the following, we show how to **leverage ArgusEyes to retrospectively analyze the pipeline run** (based on metadata and captured data artifacts), and **figure out the root cause of the data leakage issue**."
   ]
  },
  {
   "cell_type": "markdown",
   "metadata": {},
   "source": [
    "![data-leakage-screening-via-a-github-action](github-action-fairness-screening.png)"
   ]
  },
  {
   "cell_type": "code",
   "execution_count": 1,
   "id": "ebaaac70",
   "metadata": {},
   "outputs": [],
   "source": [
    "from arguseyes.retrospective import PipelineRun, FairnessRetrospective\n",
    "\n",
    "run = PipelineRun(run_id='1bb75c7a0b3643e6954e5ca15e46f057')"
   ]
  },
  {
   "cell_type": "code",
   "execution_count": 3,
   "metadata": {},
   "outputs": [
    {
     "data": {
      "text/markdown": [
       "# Pipeline Data Explorer"
      ],
      "text/plain": [
       "<IPython.core.display.Markdown object>"
      ]
     },
     "metadata": {},
     "output_type": "display_data"
    },
    {
     "data": {
      "application/vnd.jupyter.widget-view+json": {
       "model_id": "308e83c46e06465986c1e3daa2598847",
       "version_major": 2,
       "version_minor": 0
      },
      "text/plain": [
       "HBox(children=(CytoscapeWidget(cytoscape_layout={'name': 'dagre'}, cytoscape_style=[{'selector': 'node', 'css'…"
      ]
     },
     "metadata": {},
     "output_type": "display_data"
    }
   ],
   "source": [
    "run.explore_data()"
   ]
  },
  {
   "cell_type": "code",
   "execution_count": null,
   "metadata": {},
   "outputs": [],
   "source": [
    "retrospective = FairnessRetrospective(run)"
   ]
  },
  {
   "cell_type": "code",
   "execution_count": null,
   "id": "6af91c93",
   "metadata": {},
   "outputs": [],
   "source": [
    "retrospective.fairness_criteria()"
   ]
  },
  {
   "cell_type": "code",
   "execution_count": null,
   "id": "5f7a908e",
   "metadata": {},
   "outputs": [],
   "source": [
    "retrospective.confusion_matrices_for_groups()"
   ]
  },
  {
   "cell_type": "code",
   "execution_count": null,
   "id": "08e6b7bc",
   "metadata": {},
   "outputs": [],
   "source": [
    "retrospective.fairness_metrics('sex', 'male')"
   ]
  },
  {
   "cell_type": "code",
   "execution_count": null,
   "id": "fe24e0d1",
   "metadata": {},
   "outputs": [],
   "source": [
    "retrospective.plot_fairness_metrics('sex', 'male')"
   ]
  },
  {
   "cell_type": "code",
   "execution_count": null,
   "id": "3a7e0cf6",
   "metadata": {},
   "outputs": [],
   "source": [
    "retrospective.fairness_metrics('race', 'white')"
   ]
  },
  {
   "cell_type": "code",
   "execution_count": null,
   "id": "401cd216",
   "metadata": {},
   "outputs": [],
   "source": [
    "retrospective.plot_fairness_metrics('race', 'white')"
   ]
  },
  {
   "cell_type": "code",
   "execution_count": null,
   "id": "0ed5cb6c",
   "metadata": {},
   "outputs": [],
   "source": []
  }
 ],
 "metadata": {
  "kernelspec": {
   "display_name": "Python 3 (ipykernel)",
   "language": "python",
   "name": "python3"
  },
  "language_info": {
   "codemirror_mode": {
    "name": "ipython",
    "version": 3
   },
   "file_extension": ".py",
   "mimetype": "text/x-python",
   "name": "python",
   "nbconvert_exporter": "python",
   "pygments_lexer": "ipython3",
   "version": "3.9.13"
  }
 },
 "nbformat": 4,
 "nbformat_minor": 5
}
