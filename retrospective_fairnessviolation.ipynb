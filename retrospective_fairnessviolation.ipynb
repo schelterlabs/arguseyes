{
 "cells": [
  {
   "cell_type": "markdown",
   "metadata": {},
   "source": [
    "# Retrospective analysis of a fairness violation in an income classification pipeline\n",
    "\n",
    "When screening our [ML pipeline for income classification](https://github.com/schelterlabs/arguseyes-example/blob/main/pipelines/openml-classification-incomelevel.py) on Github with this [configuration](https://github.com/schelterlabs/arguseyes-example/blob/main/openml-classification-incomelevel-fairness.yaml), ArgusEyes detects a **fairness violation** in the pipeline. \n",
    "\n",
    "The screenshot shows the result of the [screening during the build triggered by a Github action](https://github.com/schelterlabs/arguseyes-example/actions/runs/3523396218/jobs/5907507086): The **classifier treats data from non-male person disparately unfair**, with respect to given threshold on the equal opportunity metric.\n",
    "\n",
    "In the following, we show how to **leverage ArgusEyes to retrospectively analyze the pipeline run** (based on metadata and captured data artifacts), and **figure out the root cause of the data leakage issue**."
   ]
  },
  {
   "cell_type": "markdown",
   "metadata": {},
   "source": [
    "![data-leakage-screening-via-a-github-action](github-action-fairness-screening.png)"
   ]
  },
  {
   "cell_type": "code",
   "execution_count": 1,
   "id": "ebaaac70",
   "metadata": {},
   "outputs": [],
   "source": [
    "from arguseyes.retrospective import PipelineRun, FairnessRetrospective\n",
    "\n",
    "run = PipelineRun(run_id='1bb75c7a0b3643e6954e5ca15e46f057')"
   ]
  },
  {
   "cell_type": "code",
   "execution_count": 2,
   "metadata": {},
   "outputs": [
    {
     "data": {
      "text/markdown": [
       "# Pipeline Data Explorer"
      ],
      "text/plain": [
       "<IPython.core.display.Markdown object>"
      ]
     },
     "metadata": {},
     "output_type": "display_data"
    },
    {
     "data": {
      "application/vnd.jupyter.widget-view+json": {
       "model_id": "e73b68fa672140b691cc94337deb9491",
       "version_major": 2,
       "version_minor": 0
      },
      "text/plain": [
       "HBox(children=(CytoscapeWidget(cytoscape_layout={'name': 'dagre'}, cytoscape_style=[{'selector': 'node', 'css'…"
      ]
     },
     "metadata": {},
     "output_type": "display_data"
    }
   ],
   "source": [
    "run.explore_data()"
   ]
  },
  {
   "cell_type": "code",
   "execution_count": 4,
   "metadata": {},
   "outputs": [],
   "source": [
    "retrospective = FairnessRetrospective(run)"
   ]
  },
  {
   "cell_type": "code",
   "execution_count": 5,
   "id": "6af91c93",
   "metadata": {},
   "outputs": [
    {
     "data": {
      "text/plain": [
       "{('race', 'white'), ('sex', 'male')}"
      ]
     },
     "execution_count": 5,
     "metadata": {},
     "output_type": "execute_result"
    }
   ],
   "source": [
    "retrospective.fairness_criteria()"
   ]
  },
  {
   "cell_type": "code",
   "execution_count": 6,
   "metadata": {},
   "outputs": [
    {
     "data": {
      "text/html": [
       "\n",
       "        <div style=\"display:flex; margin-left:-5px; margin-right:-5px; width: 85%;\">\n",
       "          <div style=\"flex: 50%; padding: 5px;\">\n",
       "            <h5>Confusion matrix for the privileged group (sex=male)</h5>\n",
       "            <table>\n",
       "              <tr>\n",
       "                <td></td><td><b>positive prediction</b></td><td><b>negative prediction</b></td><td></td>\n",
       "              </tr>\n",
       "              <tr>\n",
       "                <td><b>positive label</b></td>\n",
       "                <td style=\"border-left: 2px solid black;border-top: 2px solid black;\">TP=179</td>\n",
       "                <td style=\"border-right: 2px solid black;border-top: 2px solid black;\">FN=206</td>\n",
       "                <td>385</td>\n",
       "              </tr>    \n",
       "              <tr>\n",
       "                <td><b>negative label</b></td>\n",
       "                <td style=\"border-left: 2px solid black;border-bottom: 2px solid black;\">FP=166</td>\n",
       "                <td style=\"border-right: 2px solid black;border-bottom: 2px solid black;\">TN=813</td>\n",
       "                <td>979</td>\n",
       "              </tr>  \n",
       "              <tr>\n",
       "                <td></td><td>345</td><td>1019</td><td></td>\n",
       "              </tr>    \n",
       "            </table>\n",
       "          </div>\n",
       "          <div style=\"flex: 50%; padding: 5px;\">\n",
       "            <h5>Confusion matrix for the disadvantaged group (sex!=male)</h5>  \n",
       "            <table>\n",
       "              <tr>\n",
       "                <td></td><td><b>positive prediction</b></td><td><b>negative prediction</b></td><td></td>\n",
       "              </tr>\n",
       "              <tr>\n",
       "                <td><b>positive label</b></td>\n",
       "                <td style=\"border-left: 2px solid black;border-top: 2px solid black;\">TP=141</td>\n",
       "                <td style=\"border-right: 2px solid black;border-top: 2px solid black;\">FN=151</td>\n",
       "                <td>292</td>\n",
       "              </tr>    \n",
       "              <tr>\n",
       "                <td><b>negative label</b></td>\n",
       "                <td style=\"border-left: 2px solid black;border-bottom: 2px solid black;\">FP=121</td>\n",
       "                <td style=\"border-right: 2px solid black;border-bottom: 2px solid black;\">TN=421</td>\n",
       "                <td>542</td>\n",
       "              </tr>  \n",
       "              <tr>\n",
       "                <td></td><td>262</td><td>572</td><td></td>\n",
       "              </tr>    \n",
       "            </table>\n",
       "          </div>  \n",
       "        </div>  \n",
       "        "
      ],
      "text/plain": [
       "<IPython.core.display.HTML object>"
      ]
     },
     "metadata": {},
     "output_type": "display_data"
    }
   ],
   "source": [
    "retrospective.show_confusion_matrix('sex', 'male')"
   ]
  },
  {
   "cell_type": "code",
   "execution_count": 7,
   "id": "08e6b7bc",
   "metadata": {},
   "outputs": [
    {
     "data": {
      "text/plain": [
       "{'predictive_parity': -0.019327359221152696,\n",
       " 'equal_opportunity': -0.017941647393702187,\n",
       " 'statistical_parity': -0.061216129735507774}"
      ]
     },
     "execution_count": 7,
     "metadata": {},
     "output_type": "execute_result"
    }
   ],
   "source": [
    "retrospective.fairness_metrics('sex', 'male')"
   ]
  },
  {
   "cell_type": "code",
   "execution_count": 8,
   "id": "fe24e0d1",
   "metadata": {},
   "outputs": [
    {
     "data": {
      "image/png": "[encoded data removed]",
      "text/plain": [
       "<Figure size 640x480 with 1 Axes>"
      ]
     },
     "metadata": {},
     "output_type": "display_data"
    }
   ],
   "source": [
    "retrospective.plot_fairness_metrics('sex', 'male')"
   ]
  },
  {
   "cell_type": "code",
   "execution_count": 9,
   "metadata": {},
   "outputs": [
    {
     "data": {
      "text/html": [
       "\n",
       "        <div style=\"display:flex; margin-left:-5px; margin-right:-5px; width: 85%;\">\n",
       "          <div style=\"flex: 50%; padding: 5px;\">\n",
       "            <h5>Confusion matrix for the privileged group (race=white)</h5>\n",
       "            <table>\n",
       "              <tr>\n",
       "                <td></td><td><b>positive prediction</b></td><td><b>negative prediction</b></td><td></td>\n",
       "              </tr>\n",
       "              <tr>\n",
       "                <td><b>positive label</b></td>\n",
       "                <td style=\"border-left: 2px solid black;border-top: 2px solid black;\">TP=272</td>\n",
       "                <td style=\"border-right: 2px solid black;border-top: 2px solid black;\">FN=294</td>\n",
       "                <td>566</td>\n",
       "              </tr>    \n",
       "              <tr>\n",
       "                <td><b>negative label</b></td>\n",
       "                <td style=\"border-left: 2px solid black;border-bottom: 2px solid black;\">FP=228</td>\n",
       "                <td style=\"border-right: 2px solid black;border-bottom: 2px solid black;\">TN=943</td>\n",
       "                <td>1171</td>\n",
       "              </tr>  \n",
       "              <tr>\n",
       "                <td></td><td>500</td><td>1237</td><td></td>\n",
       "              </tr>    \n",
       "            </table>\n",
       "          </div>\n",
       "          <div style=\"flex: 50%; padding: 5px;\">\n",
       "            <h5>Confusion matrix for the disadvantaged group (race!=white)</h5>  \n",
       "            <table>\n",
       "              <tr>\n",
       "                <td></td><td><b>positive prediction</b></td><td><b>negative prediction</b></td><td></td>\n",
       "              </tr>\n",
       "              <tr>\n",
       "                <td><b>positive label</b></td>\n",
       "                <td style=\"border-left: 2px solid black;border-top: 2px solid black;\">TP=48</td>\n",
       "                <td style=\"border-right: 2px solid black;border-top: 2px solid black;\">FN=63</td>\n",
       "                <td>111</td>\n",
       "              </tr>    \n",
       "              <tr>\n",
       "                <td><b>negative label</b></td>\n",
       "                <td style=\"border-left: 2px solid black;border-bottom: 2px solid black;\">FP=59</td>\n",
       "                <td style=\"border-right: 2px solid black;border-bottom: 2px solid black;\">TN=291</td>\n",
       "                <td>350</td>\n",
       "              </tr>  \n",
       "              <tr>\n",
       "                <td></td><td>107</td><td>354</td><td></td>\n",
       "              </tr>    \n",
       "            </table>\n",
       "          </div>  \n",
       "        </div>  \n",
       "        "
      ],
      "text/plain": [
       "<IPython.core.display.HTML object>"
      ]
     },
     "metadata": {},
     "output_type": "display_data"
    }
   ],
   "source": [
    "retrospective.show_confusion_matrix('race', 'white')"
   ]
  },
  {
   "cell_type": "code",
   "execution_count": 10,
   "id": "3a7e0cf6",
   "metadata": {},
   "outputs": [
    {
     "data": {
      "text/plain": [
       "{'predictive_parity': 0.09540186915887855,\n",
       " 'equal_opportunity': 0.0481329385923025,\n",
       " 'statistical_parity': 0.05574849798378281}"
      ]
     },
     "execution_count": 10,
     "metadata": {},
     "output_type": "execute_result"
    }
   ],
   "source": [
    "retrospective.fairness_metrics('race', 'white')"
   ]
  },
  {
   "cell_type": "code",
   "execution_count": 11,
   "id": "401cd216",
   "metadata": {},
   "outputs": [
    {
     "data": {
      "image/png": "[encoded data removed]",
      "text/plain": [
       "<Figure size 640x480 with 1 Axes>"
      ]
     },
     "metadata": {},
     "output_type": "display_data"
    }
   ],
   "source": [
    "retrospective.plot_fairness_metrics('race', 'white')"
   ]
  },
  {
   "cell_type": "code",
   "execution_count": null,
   "id": "0ed5cb6c",
   "metadata": {},
   "outputs": [],
   "source": []
  }
 ],
 "metadata": {
  "kernelspec": {
   "display_name": "Python 3 (ipykernel)",
   "language": "python",
   "name": "python3"
  },
  "language_info": {
   "codemirror_mode": {
    "name": "ipython",
    "version": 3
   },
   "file_extension": ".py",
   "mimetype": "text/x-python",
   "name": "python",
   "nbconvert_exporter": "python",
   "pygments_lexer": "ipython3",
   "version": "3.9.13"
  }
 },
 "nbformat": 4,
 "nbformat_minor": 5
}
