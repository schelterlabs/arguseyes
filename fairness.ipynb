{
 "cells": [
  {
   "cell_type": "code",
   "execution_count": 2,
   "id": "ebaaac70",
   "metadata": {},
   "outputs": [],
   "source": [
    "from arguseyes.retrospective import PipelineRun, FairnessRetrospective\n",
    "\n",
    "run = PipelineRun(run_id='1bb75c7a0b3643e6954e5ca15e46f057')"
   ]
  },
  {
   "cell_type": "code",
   "execution_count": 3,
   "metadata": {},
   "outputs": [
    {
     "data": {
      "text/markdown": [
       "```Python\n",
       "# https://www.openml.org/search?type=flow&id=8774\n",
       "import pandas as pd\n",
       "\n",
       "from sklearn.tree import DecisionTreeClassifier\n",
       "from sklearn.impute import SimpleImputer\n",
       "from sklearn.pipeline import Pipeline\n",
       "from sklearn.preprocessing import StandardScaler, OneHotEncoder, label_binarize\n",
       "from sklearn.compose import ColumnTransformer\n",
       "\n",
       "\n",
       "def denormalize(records, workclasses, education, occupation, sex, race):\n",
       "    data = records.merge(workclasses, on='workclass_id')\n",
       "    data = data.merge(education, on='education_id', how='left')\n",
       "    data = data.merge(occupation, on='occupation_id', how='left')\n",
       "    data = data.merge(sex, on='sex_id', how='left')\n",
       "    data = data.merge(race, on='race_id', how='left')\n",
       "    return data\n",
       "\n",
       "\n",
       "def load_train_and_test_data(data_location, employment_types):\n",
       "\n",
       "    train = pd.read_csv(f'{data_location}/income_train.csv')\n",
       "    test = pd.read_csv(f'{data_location}/income_test.csv')\n",
       "\n",
       "    workclasses = pd.read_csv(f'{data_location}/workclass.csv')\n",
       "    education = pd.read_csv(f'{data_location}/education.csv')\n",
       "    occupation = pd.read_csv(f'{data_location}/occupation.csv')\n",
       "    sex = pd.read_csv(f'{data_location}/sex.csv')\n",
       "    race = pd.read_csv(f'{data_location}/race.csv')\n",
       "\n",
       "    workclasses = workclasses[workclasses.workclass.isin(employment_types)]\n",
       "\n",
       "    train = denormalize(train, workclasses, education, occupation, sex, race)\n",
       "    test = denormalize(test, workclasses, education, occupation, sex, race)\n",
       "\n",
       "    return train, test\n",
       "\n",
       "\n",
       "def extract_labels(train, test):\n",
       "    train_labels = label_binarize(train['income-per-year'], classes=['<=50K', '>50K'])\n",
       "    # The test data has a dot in the class names for some reason...\n",
       "    test_labels = label_binarize(test['income-per-year'], classes=['<=50K.', '>50K.'])\n",
       "\n",
       "    return train_labels, test_labels\n",
       "\n",
       "\n",
       "# https://www.openml.org/search?type=flow&id=8774\n",
       "def openmlflow(numerical_columns, categorical_columns):\n",
       "\n",
       "    num_pipe = Pipeline([('imputer', SimpleImputer(add_indicator=True)),\n",
       "                         ('standardscaler', StandardScaler())])\n",
       "    cat_pipe = Pipeline([('simpleimputer', SimpleImputer(strategy='most_frequent')),\n",
       "                         ('onehotencoder', OneHotEncoder())])\n",
       "    return Pipeline([\n",
       "        ('columntransformer', ColumnTransformer([\n",
       "            ('num', num_pipe, numerical_columns),\n",
       "            ('cat', cat_pipe, categorical_columns),\n",
       "        ])),\n",
       "        ('decisiontreeclassifier', DecisionTreeClassifier(random_state=0))])\n",
       "\n",
       "\n",
       "data_location = 'datasets/income/'\n",
       "\n",
       "government_employed = ['Federal-gov', 'State-gov', 'Local-gov']\n",
       "\n",
       "train, test = load_train_and_test_data(data_location, employment_types=government_employed)\n",
       "\n",
       "\n",
       "train_labels, test_labels = extract_labels(train, test)\n",
       "\n",
       "categorical_columns = ['workclass', 'education', 'occupation']\n",
       "numerical_columns = ['age', 'capital-gain', 'capital-loss', 'hours-per-week']\n",
       "\n",
       "openml_pipeline = openmlflow(numerical_columns, categorical_columns)\n",
       "\n",
       "model = openml_pipeline.fit(train, train_labels)\n",
       "\n",
       "score = model.score(test, test_labels)\n",
       "\n",
       "print(\"Accuracy\", score)\n",
       "\n",
       "```"
      ],
      "text/plain": [
       "<IPython.core.display.Markdown object>"
      ]
     },
     "execution_count": 3,
     "metadata": {},
     "output_type": "execute_result"
    }
   ],
   "source": [
    "run.show_source_code()"
   ]
  },
  {
   "cell_type": "code",
   "execution_count": 3,
   "metadata": {},
   "outputs": [
    {
     "data": {
      "application/vnd.jupyter.widget-view+json": {
       "model_id": "44748e5bbe2f41c69688a0f13d0c2c2a",
       "version_major": 2,
       "version_minor": 0
      },
      "text/plain": [
       "CytoscapeWidget(cytoscape_layout={'name': 'dagre'}, cytoscape_style=[{'selector': 'node', 'css': {'content': '…"
      ]
     },
     "execution_count": 3,
     "metadata": {},
     "output_type": "execute_result"
    }
   ],
   "source": [
    "run.show_plan()"
   ]
  },
  {
   "cell_type": "code",
   "execution_count": null,
   "metadata": {},
   "outputs": [],
   "source": [
    "data, provenance = run.load_input(1)\n",
    "data"
   ]
  },
  {
   "cell_type": "code",
   "execution_count": null,
   "metadata": {},
   "outputs": [],
   "source": [
    "data, provenance = run.load_input(5)\n",
    "data"
   ]
  },
  {
   "cell_type": "code",
   "execution_count": null,
   "metadata": {},
   "outputs": [],
   "source": [
    "retrospective = FairnessRetrospective(run)"
   ]
  },
  {
   "cell_type": "code",
   "execution_count": null,
   "id": "6af91c93",
   "metadata": {},
   "outputs": [],
   "source": [
    "retrospective.fairness_criteria()"
   ]
  },
  {
   "cell_type": "code",
   "execution_count": null,
   "id": "5f7a908e",
   "metadata": {},
   "outputs": [],
   "source": [
    "retrospective.confusion_matrices_for_groups()"
   ]
  },
  {
   "cell_type": "code",
   "execution_count": null,
   "id": "08e6b7bc",
   "metadata": {},
   "outputs": [],
   "source": [
    "retrospective.fairness_metrics('sex', 'male')"
   ]
  },
  {
   "cell_type": "code",
   "execution_count": null,
   "id": "3a7e0cf6",
   "metadata": {},
   "outputs": [],
   "source": [
    "retrospective.fairness_metrics('race', 'white')"
   ]
  },
  {
   "cell_type": "code",
   "execution_count": null,
   "id": "fe24e0d1",
   "metadata": {},
   "outputs": [],
   "source": [
    "retrospective.plot_fairness_metrics('sex', 'male')"
   ]
  },
  {
   "cell_type": "code",
   "execution_count": null,
   "id": "401cd216",
   "metadata": {},
   "outputs": [],
   "source": [
    "retrospective.plot_fairness_metrics('race', 'white')"
   ]
  },
  {
   "cell_type": "code",
   "execution_count": null,
   "id": "0ed5cb6c",
   "metadata": {},
   "outputs": [],
   "source": []
  }
 ],
 "metadata": {
  "kernelspec": {
   "display_name": "Python 3 (ipykernel)",
   "language": "python",
   "name": "python3"
  },
  "language_info": {
   "codemirror_mode": {
    "name": "ipython",
    "version": 3
   },
   "file_extension": ".py",
   "mimetype": "text/x-python",
   "name": "python",
   "nbconvert_exporter": "python",
   "pygments_lexer": "ipython3",
   "version": "3.9.13"
  }
 },
 "nbformat": 4,
 "nbformat_minor": 5
}
