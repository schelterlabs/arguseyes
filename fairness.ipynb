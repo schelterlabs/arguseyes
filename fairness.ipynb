{
 "cells": [
  {
   "cell_type": "code",
   "execution_count": 91,
   "metadata": {},
   "outputs": [],
   "source": [
    "import mlflow \n",
    "\n",
    "run = mlflow.get_run(run_id='4f56d29dae1d4222962ac8555f323d26')"
   ]
  },
  {
   "cell_type": "code",
   "execution_count": 92,
   "metadata": {},
   "outputs": [],
   "source": [
    "def find_test_sources(run):\n",
    "    \n",
    "    test_sources = {}\n",
    "\n",
    "    for param_key in run.data.params:\n",
    "        if 'arguseyes.test_source' in param_key:\n",
    "            source_index = param_key.split('.')[2]\n",
    "            detail = param_key.split('.')[3]\n",
    "\n",
    "            if not source_index in test_sources:\n",
    "                test_sources[source_index] = {}\n",
    "\n",
    "            test_sources[source_index][detail] = run.data.params[param_key]\n",
    "\n",
    "    return test_sources        "
   ]
  },
  {
   "cell_type": "code",
   "execution_count": 93,
   "metadata": {},
   "outputs": [],
   "source": [
    "def fairness_criteria(run):\n",
    "    criteria = set()\n",
    "    for key in run.data.metrics:\n",
    "        if key.startswith('arguseyes.fairness') and not '.not.' in key:\n",
    "            criterion = (key.split('.')[2], key.split('.')[3])\n",
    "            criteria.add(criterion) \n",
    "    return criteria                \n",
    "\n",
    "def confusion_matrices_for_groups(run):\n",
    "    import pandas as pd\n",
    "    \n",
    "    criteria = fairness_criteria(run) \n",
    "\n",
    "    records = []\n",
    "\n",
    "    for sensitive_attribute, non_protected_class in criteria:\n",
    "        for score in ['true_negatives', 'false_positives', 'false_negatives', 'true_positives']:\n",
    "            count_priv = \\\n",
    "                run.data.metrics[f'arguseyes.fairness.{sensitive_attribute}.{non_protected_class}.{score}']\n",
    "            count_dis = \\\n",
    "                run.data.metrics[f'arguseyes.fairness.{sensitive_attribute}.not.{non_protected_class}.{score}']\n",
    "\n",
    "            records.append((sensitive_attribute, non_protected_class, score, count_priv, count_dis))       \n",
    "\n",
    "    columns = ['sensitive_attribute', 'privileged_value','score', 'count_privileged', 'count_disadvantaged']\n",
    "    confusion_matrices = pd.DataFrame.from_records(records, columns=columns)\n",
    "    \n",
    "    return confusion_matrices"
   ]
  },
  {
   "cell_type": "code",
   "execution_count": 94,
   "metadata": {},
   "outputs": [
    {
     "data": {
      "text/plain": [
       "{'6': {'attributes': \"['race_id', 'race']\",\n",
       "  'num_records': '5',\n",
       "  'type': 'SourceType.SIDE_DATA',\n",
       "  'attribute_types': \"['int64', 'object']\"},\n",
       " '2': {'attribute_types': \"['int64', 'object']\",\n",
       "  'num_records': '8',\n",
       "  'attributes': \"['workclass_id', 'workclass']\",\n",
       "  'type': 'SourceType.SIDE_DATA'},\n",
       " '1': {'type': 'SourceType.ENTITIES',\n",
       "  'attributes': \"['workclass_id', 'education_id', 'occupation_id', 'sex_id', 'race_id', 'age', 'capital-gain', 'capital-loss', 'hours-per-week', 'income-per-year']\",\n",
       "  'attribute_types': \"['float64', 'int64', 'float64', 'int64', 'int64', 'int64', 'int64', 'int64', 'int64', 'object']\",\n",
       "  'num_records': '16281'},\n",
       " '3': {'num_records': '16',\n",
       "  'attributes': \"['education_id', 'education']\",\n",
       "  'attribute_types': \"['int64', 'object']\",\n",
       "  'type': 'SourceType.SIDE_DATA'},\n",
       " '5': {'attribute_types': \"['int64', 'object']\",\n",
       "  'num_records': '2',\n",
       "  'type': 'SourceType.SIDE_DATA',\n",
       "  'attributes': \"['sex_id', 'sex']\"},\n",
       " '4': {'attributes': \"['occupation_id', 'occupation']\",\n",
       "  'attribute_types': \"['int64', 'object']\",\n",
       "  'type': 'SourceType.SIDE_DATA',\n",
       "  'num_records': '14'}}"
      ]
     },
     "execution_count": 94,
     "metadata": {},
     "output_type": "execute_result"
    }
   ],
   "source": [
    "find_test_sources(run)"
   ]
  },
  {
   "cell_type": "code",
   "execution_count": 95,
   "metadata": {},
   "outputs": [
    {
     "data": {
      "text/plain": [
       "{('race', 'white'), ('sex', 'male')}"
      ]
     },
     "execution_count": 95,
     "metadata": {},
     "output_type": "execute_result"
    }
   ],
   "source": [
    "fairness_criteria(run)"
   ]
  },
  {
   "cell_type": "code",
   "execution_count": 96,
   "metadata": {},
   "outputs": [
    {
     "data": {
      "text/html": [
       "<div>\n",
       "<style scoped>\n",
       "    .dataframe tbody tr th:only-of-type {\n",
       "        vertical-align: middle;\n",
       "    }\n",
       "\n",
       "    .dataframe tbody tr th {\n",
       "        vertical-align: top;\n",
       "    }\n",
       "\n",
       "    .dataframe thead th {\n",
       "        text-align: right;\n",
       "    }\n",
       "</style>\n",
       "<table border=\"1\" class=\"dataframe\">\n",
       "  <thead>\n",
       "    <tr style=\"text-align: right;\">\n",
       "      <th></th>\n",
       "      <th>sensitive_attribute</th>\n",
       "      <th>privileged_value</th>\n",
       "      <th>score</th>\n",
       "      <th>count_privileged</th>\n",
       "      <th>count_disadvantaged</th>\n",
       "    </tr>\n",
       "  </thead>\n",
       "  <tbody>\n",
       "    <tr>\n",
       "      <th>0</th>\n",
       "      <td>sex</td>\n",
       "      <td>male</td>\n",
       "      <td>true_negatives</td>\n",
       "      <td>5242.0</td>\n",
       "      <td>2714.0</td>\n",
       "    </tr>\n",
       "    <tr>\n",
       "      <th>1</th>\n",
       "      <td>sex</td>\n",
       "      <td>male</td>\n",
       "      <td>false_positives</td>\n",
       "      <td>540.0</td>\n",
       "      <td>290.0</td>\n",
       "    </tr>\n",
       "    <tr>\n",
       "      <th>2</th>\n",
       "      <td>sex</td>\n",
       "      <td>male</td>\n",
       "      <td>false_negatives</td>\n",
       "      <td>816.0</td>\n",
       "      <td>421.0</td>\n",
       "    </tr>\n",
       "    <tr>\n",
       "      <th>3</th>\n",
       "      <td>sex</td>\n",
       "      <td>male</td>\n",
       "      <td>true_positives</td>\n",
       "      <td>765.0</td>\n",
       "      <td>422.0</td>\n",
       "    </tr>\n",
       "    <tr>\n",
       "      <th>4</th>\n",
       "      <td>race</td>\n",
       "      <td>white</td>\n",
       "      <td>true_negatives</td>\n",
       "      <td>6824.0</td>\n",
       "      <td>1132.0</td>\n",
       "    </tr>\n",
       "    <tr>\n",
       "      <th>5</th>\n",
       "      <td>race</td>\n",
       "      <td>white</td>\n",
       "      <td>false_positives</td>\n",
       "      <td>725.0</td>\n",
       "      <td>105.0</td>\n",
       "    </tr>\n",
       "    <tr>\n",
       "      <th>6</th>\n",
       "      <td>race</td>\n",
       "      <td>white</td>\n",
       "      <td>false_negatives</td>\n",
       "      <td>1059.0</td>\n",
       "      <td>178.0</td>\n",
       "    </tr>\n",
       "    <tr>\n",
       "      <th>7</th>\n",
       "      <td>race</td>\n",
       "      <td>white</td>\n",
       "      <td>true_positives</td>\n",
       "      <td>1012.0</td>\n",
       "      <td>175.0</td>\n",
       "    </tr>\n",
       "  </tbody>\n",
       "</table>\n",
       "</div>"
      ],
      "text/plain": [
       "  sensitive_attribute privileged_value            score  count_privileged  \\\n",
       "0                 sex             male   true_negatives            5242.0   \n",
       "1                 sex             male  false_positives             540.0   \n",
       "2                 sex             male  false_negatives             816.0   \n",
       "3                 sex             male   true_positives             765.0   \n",
       "4                race            white   true_negatives            6824.0   \n",
       "5                race            white  false_positives             725.0   \n",
       "6                race            white  false_negatives            1059.0   \n",
       "7                race            white   true_positives            1012.0   \n",
       "\n",
       "   count_disadvantaged  \n",
       "0               2714.0  \n",
       "1                290.0  \n",
       "2                421.0  \n",
       "3                422.0  \n",
       "4               1132.0  \n",
       "5                105.0  \n",
       "6                178.0  \n",
       "7                175.0  "
      ]
     },
     "execution_count": 96,
     "metadata": {},
     "output_type": "execute_result"
    }
   ],
   "source": [
    "confusion_matrices_for_groups(run)"
   ]
  },
  {
   "cell_type": "code",
   "execution_count": 97,
   "metadata": {},
   "outputs": [],
   "source": [
    "def fairness_metrics(run, sensitive_attribute, non_protected_class):\n",
    "    tp_priv = run.data.metrics[f'arguseyes.fairness.{sensitive_attribute}.{non_protected_class}.true_positives']\n",
    "    fn_priv = run.data.metrics[f'arguseyes.fairness.{sensitive_attribute}.{non_protected_class}.false_negatives']\n",
    "    tn_priv = run.data.metrics[f'arguseyes.fairness.{sensitive_attribute}.{non_protected_class}.true_negatives']\n",
    "    fp_priv = run.data.metrics[f'arguseyes.fairness.{sensitive_attribute}.{non_protected_class}.false_positives']\n",
    "\n",
    "    tp_dis = run.data.metrics[f'arguseyes.fairness.{sensitive_attribute}.not.{non_protected_class}.true_positives']\n",
    "    fn_dis = run.data.metrics[f'arguseyes.fairness.{sensitive_attribute}.not.{non_protected_class}.false_negatives']\n",
    "    tn_dis = run.data.metrics[f'arguseyes.fairness.{sensitive_attribute}.not.{non_protected_class}.true_negatives']\n",
    "    fp_dis = run.data.metrics[f'arguseyes.fairness.{sensitive_attribute}.not.{non_protected_class}.false_positives']\n",
    "\n",
    "    # tp / tp + fp\n",
    "    predictive_parity = (tp_priv / (tp_priv + fp_priv)) - (tp_dis / (tp_dis + fp_dis))\n",
    "\n",
    "    # tp / tp + fn\n",
    "    equal_opportunity = (tp_priv / (tp_priv + fn_priv)) - (tp_dis / (tp_dis + fn_dis))\n",
    "\n",
    "    # tp + fp / tp + fp + tn + fn\n",
    "    statistical_parity = ((tp_priv + fp_priv) / (tp_priv + fn_priv + fp_priv + tn_priv)) \\\n",
    "        - ((tp_dis + fp_dis) / (tp_dis + fn_dis + fp_dis + tn_dis))\n",
    "\n",
    "    return {\n",
    "        'predictive_parity': predictive_parity, \n",
    "        'equal_opportunity': equal_opportunity, \n",
    "        'statistical_parity': statistical_parity\n",
    "    }"
   ]
  },
  {
   "cell_type": "code",
   "execution_count": 98,
   "metadata": {},
   "outputs": [
    {
     "data": {
      "text/plain": [
       "{'predictive_parity': -0.006489732661759007,\n",
       " 'equal_opportunity': -0.016722152068266216,\n",
       " 'statistical_parity': -0.007841743511253024}"
      ]
     },
     "execution_count": 98,
     "metadata": {},
     "output_type": "execute_result"
    }
   ],
   "source": [
    "fairness_metrics(run, 'sex', 'male')"
   ]
  },
  {
   "cell_type": "code",
   "execution_count": 99,
   "metadata": {},
   "outputs": [
    {
     "data": {
      "text/plain": [
       "{'predictive_parity': -0.04238629821531381,\n",
       " 'equal_opportunity': -0.007097883492941104,\n",
       " 'statistical_parity': 0.004460701630512959}"
      ]
     },
     "execution_count": 99,
     "metadata": {},
     "output_type": "execute_result"
    }
   ],
   "source": [
    "fairness_metrics(run, 'race', 'white')"
   ]
  },
  {
   "cell_type": "code",
   "execution_count": 100,
   "metadata": {},
   "outputs": [],
   "source": [
    "def plot_fairness_metrics(run, sensitive_attribute, non_protected_class):\n",
    "\n",
    "    import matplotlib.pyplot as plt\n",
    "    import numpy as np\n",
    "\n",
    "    metrics = fairness_metrics(run, sensitive_attribute, non_protected_class)\n",
    "\n",
    "    max_value = np.max(np.absolute(list(metrics.values())))\n",
    "\n",
    "    plt.ylim((-max_value * 1.25, max_value * 1.25))\n",
    "\n",
    "    plt.bar(np.arange(3), [metrics['predictive_parity'], metrics['equal_opportunity'], metrics['statistical_parity']])\n",
    "\n",
    "    plt.xticks(np.arange(3), ['predictive parity', 'equal opportunity', 'statistical parity'])\n",
    "\n",
    "    plt.show()"
   ]
  },
  {
   "cell_type": "code",
   "execution_count": 101,
   "metadata": {},
   "outputs": [
    {
     "data": {
      "image/png": "[encoded data removed]",
      "text/plain": [
       "<Figure size 640x480 with 1 Axes>"
      ]
     },
     "metadata": {},
     "output_type": "display_data"
    }
   ],
   "source": [
    "plot_fairness_metrics(run, 'sex', 'male')"
   ]
  },
  {
   "cell_type": "code",
   "execution_count": 102,
   "metadata": {},
   "outputs": [
    {
     "data": {
      "image/png": "[encoded data removed]",
      "text/plain": [
       "<Figure size 640x480 with 1 Axes>"
      ]
     },
     "metadata": {},
     "output_type": "display_data"
    }
   ],
   "source": [
    "plot_fairness_metrics(run, 'race', 'white')"
   ]
  },
  {
   "cell_type": "code",
   "execution_count": null,
   "metadata": {},
   "outputs": [],
   "source": []
  }
 ],
 "metadata": {
  "kernelspec": {
   "display_name": "Python 3 (ipykernel)",
   "language": "python",
   "name": "python3"
  },
  "language_info": {
   "codemirror_mode": {
    "name": "ipython",
    "version": 3
   },
   "file_extension": ".py",
   "mimetype": "text/x-python",
   "name": "python",
   "nbconvert_exporter": "python",
   "pygments_lexer": "ipython3",
   "version": "3.9.13"
  }
 },
 "nbformat": 4,
 "nbformat_minor": 5
}
