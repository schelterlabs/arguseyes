{
 "cells": [
  {
   "cell_type": "markdown",
   "metadata": {},
   "source": [
    "# Retrospective analysis of label errors in a computer vision pipeline\n",
    "\n",
    "When screening our [ML pipeline for identifying product images](https://github.com/schelterlabs/arguseyes/blob/sigmod-demo/arguseyes/example_pipelines/mlinspect-computervision-sneakers.py) on Github with this [configuration](https://github.com/schelterlabs/arguseyes-example/blob/main/mlinspect-computervision-sneakers-labelerrors.yaml), ArgusEyes detects **label errors** in the input data of the pipeline. \n",
    "\n",
    "The screenshot shows the result of the [screening during the build triggered by a Github action](https://github.com/schelterlabs/arguseyes-example/actions/runs/3523396218/jobs/5907506876): There are **273 potentially mislabeled samples in the train set**.\n",
    "\n",
    "In the following, we show how to **leverage ArgusEyes to retrospectively analyze the pipeline run** (based on metadata and captured data artifacts), and **confirm and identify the mislabeled images**."
   ]
  },
  {
   "cell_type": "markdown",
   "metadata": {},
   "source": [
    "![label-error-screening-via-a-github-action](github-action-labelerror-screening.png)"
   ]
  },
  {
   "cell_type": "markdown",
   "metadata": {},
   "source": [
    "### Load the metadata and artifacts from the original run of the pipeline\n",
    "\n",
    "ArgusEyes needs the run id from the mlflow run where ArgusEyes stored the metadata and artifacts. (Note we use a local run here for demo purposes)."
   ]
  },
  {
   "cell_type": "code",
   "execution_count": 24,
   "metadata": {},
   "outputs": [],
   "source": [
    "from arguseyes.retrospective import PipelineRun, LabelErrorsRetrospective"
   ]
  },
  {
   "cell_type": "code",
   "execution_count": 25,
   "metadata": {},
   "outputs": [],
   "source": [
    "run_id = '55bd2b33ff45444593a0dd2cafdcc469'\n",
    "\n",
    "run = PipelineRun(run_id=run_id)"
   ]
  },
  {
   "cell_type": "markdown",
   "metadata": {},
   "source": [
    "### Interactively explore the dataflow plan and data of the pipeline run\n",
    "\n",
    "We can view a dataflow plan of the pipeline, which highlights the input datasets, as well as the features and labels for the train and test data computed by the pipeline. We can interactively explore the pipeline data. Clicking on the pink data vertices provides us with details about the corresponding data."
   ]
  },
  {
   "cell_type": "code",
   "execution_count": 26,
   "metadata": {
    "scrolled": true
   },
   "outputs": [
    {
     "data": {
      "text/markdown": [
       "# Pipeline Data Explorer"
      ],
      "text/plain": [
       "<IPython.core.display.Markdown object>"
      ]
     },
     "metadata": {},
     "output_type": "display_data"
    },
    {
     "data": {
      "application/vnd.jupyter.widget-view+json": {
       "model_id": "b24dc5591b0c4000ade90f94ed627bf1",
       "version_major": 2,
       "version_minor": 0
      },
      "text/plain": [
       "HBox(children=(CytoscapeWidget(cytoscape_layout={'name': 'dagre'}, cytoscape_style=[{'selector': 'node', 'css'…"
      ]
     },
     "metadata": {},
     "output_type": "display_data"
    }
   ],
   "source": [
    "run.explore_data()"
   ]
  },
  {
   "cell_type": "markdown",
   "metadata": {},
   "source": [
    "## Retrospective analysis of the label errors issue\n",
    "\n",
    "ArgusEyes allows us to instantiate a special `LabelErrorsRetrospective`, which helps us find potentially mislabeled examples in the pipeline's training data"
   ]
  },
  {
   "cell_type": "code",
   "execution_count": 6,
   "metadata": {},
   "outputs": [],
   "source": [
    "retrospective = LabelErrorsRetrospective(run)"
   ]
  },
  {
   "cell_type": "markdown",
   "metadata": {},
   "source": [
    "## Data valuation with Shapley values\n",
    "\n",
    "We can load a \"refined\" version of our the pipeline's main input (the product images), which contains the Shapley value for each tuple. This value indicates how \"valuable\" a particular tuple has been for the convolutional neural network trained by the pipeline.\n",
    "\n",
    "Negative Shapley values denote that a tuple hurts the accuracy of the neural network and is a strong indication that this tuple is potentially mislabeled."
   ]
  },
  {
   "cell_type": "code",
   "execution_count": 7,
   "metadata": {},
   "outputs": [
    {
     "data": {
      "text/html": [
       "<div>\n",
       "<style scoped>\n",
       "    .dataframe tbody tr th:only-of-type {\n",
       "        vertical-align: middle;\n",
       "    }\n",
       "\n",
       "    .dataframe tbody tr th {\n",
       "        vertical-align: top;\n",
       "    }\n",
       "\n",
       "    .dataframe thead th {\n",
       "        text-align: right;\n",
       "    }\n",
       "</style>\n",
       "<table border=\"1\" class=\"dataframe\">\n",
       "  <thead>\n",
       "    <tr style=\"text-align: right;\">\n",
       "      <th></th>\n",
       "      <th>image</th>\n",
       "      <th>category_id</th>\n",
       "      <th>__shapley_value</th>\n",
       "    </tr>\n",
       "  </thead>\n",
       "  <tbody>\n",
       "    <tr>\n",
       "      <th>0</th>\n",
       "      <td>[0, 0, 0, 0, 0, 0, 0, 0, 0, 0, 178, 166, 158, ...</td>\n",
       "      <td>1</td>\n",
       "      <td>0.000000</td>\n",
       "    </tr>\n",
       "    <tr>\n",
       "      <th>1</th>\n",
       "      <td>[0, 0, 0, 0, 0, 0, 0, 0, 0, 0, 0, 1, 2, 0, 32,...</td>\n",
       "      <td>8</td>\n",
       "      <td>0.000000</td>\n",
       "    </tr>\n",
       "    <tr>\n",
       "      <th>2</th>\n",
       "      <td>[0, 0, 0, 0, 0, 0, 0, 0, 0, 112, 153, 114, 111...</td>\n",
       "      <td>1</td>\n",
       "      <td>0.000000</td>\n",
       "    </tr>\n",
       "    <tr>\n",
       "      <th>3</th>\n",
       "      <td>[0, 0, 0, 0, 0, 0, 0, 0, 0, 0, 47, 78, 1, 0, 2...</td>\n",
       "      <td>6</td>\n",
       "      <td>0.000000</td>\n",
       "    </tr>\n",
       "    <tr>\n",
       "      <th>4</th>\n",
       "      <td>[0, 0, 0, 0, 0, 0, 0, 0, 0, 0, 0, 0, 0, 0, 0, ...</td>\n",
       "      <td>5</td>\n",
       "      <td>0.000000</td>\n",
       "    </tr>\n",
       "    <tr>\n",
       "      <th>...</th>\n",
       "      <td>...</td>\n",
       "      <td>...</td>\n",
       "      <td>...</td>\n",
       "    </tr>\n",
       "    <tr>\n",
       "      <th>4795</th>\n",
       "      <td>[0, 0, 0, 0, 0, 0, 0, 0, 0, 0, 0, 0, 0, 0, 0, ...</td>\n",
       "      <td>8</td>\n",
       "      <td>0.000000</td>\n",
       "    </tr>\n",
       "    <tr>\n",
       "      <th>4796</th>\n",
       "      <td>[0, 0, 0, 0, 0, 0, 0, 3, 3, 2, 0, 70, 222, 201...</td>\n",
       "      <td>6</td>\n",
       "      <td>0.000000</td>\n",
       "    </tr>\n",
       "    <tr>\n",
       "      <th>4797</th>\n",
       "      <td>[0, 0, 0, 0, 0, 0, 0, 0, 0, 1, 0, 0, 92, 146, ...</td>\n",
       "      <td>4</td>\n",
       "      <td>0.000000</td>\n",
       "    </tr>\n",
       "    <tr>\n",
       "      <th>4798</th>\n",
       "      <td>[0, 0, 0, 0, 0, 0, 0, 0, 0, 0, 0, 0, 0, 0, 0, ...</td>\n",
       "      <td>9</td>\n",
       "      <td>0.000785</td>\n",
       "    </tr>\n",
       "    <tr>\n",
       "      <th>4799</th>\n",
       "      <td>[0, 0, 0, 0, 0, 0, 0, 0, 0, 0, 0, 0, 0, 0, 0, ...</td>\n",
       "      <td>2</td>\n",
       "      <td>0.000000</td>\n",
       "    </tr>\n",
       "  </tbody>\n",
       "</table>\n",
       "<p>4800 rows × 3 columns</p>\n",
       "</div>"
      ],
      "text/plain": [
       "                                                  image  category_id  \\\n",
       "0     [0, 0, 0, 0, 0, 0, 0, 0, 0, 0, 178, 166, 158, ...            1   \n",
       "1     [0, 0, 0, 0, 0, 0, 0, 0, 0, 0, 0, 1, 2, 0, 32,...            8   \n",
       "2     [0, 0, 0, 0, 0, 0, 0, 0, 0, 112, 153, 114, 111...            1   \n",
       "3     [0, 0, 0, 0, 0, 0, 0, 0, 0, 0, 47, 78, 1, 0, 2...            6   \n",
       "4     [0, 0, 0, 0, 0, 0, 0, 0, 0, 0, 0, 0, 0, 0, 0, ...            5   \n",
       "...                                                 ...          ...   \n",
       "4795  [0, 0, 0, 0, 0, 0, 0, 0, 0, 0, 0, 0, 0, 0, 0, ...            8   \n",
       "4796  [0, 0, 0, 0, 0, 0, 0, 3, 3, 2, 0, 70, 222, 201...            6   \n",
       "4797  [0, 0, 0, 0, 0, 0, 0, 0, 0, 1, 0, 0, 92, 146, ...            4   \n",
       "4798  [0, 0, 0, 0, 0, 0, 0, 0, 0, 0, 0, 0, 0, 0, 0, ...            9   \n",
       "4799  [0, 0, 0, 0, 0, 0, 0, 0, 0, 0, 0, 0, 0, 0, 0, ...            2   \n",
       "\n",
       "      __shapley_value  \n",
       "0            0.000000  \n",
       "1            0.000000  \n",
       "2            0.000000  \n",
       "3            0.000000  \n",
       "4            0.000000  \n",
       "...               ...  \n",
       "4795         0.000000  \n",
       "4796         0.000000  \n",
       "4797         0.000000  \n",
       "4798         0.000785  \n",
       "4799         0.000000  \n",
       "\n",
       "[4800 rows x 3 columns]"
      ]
     },
     "execution_count": 7,
     "metadata": {},
     "output_type": "execute_result"
    }
   ],
   "source": [
    "images_with_shapley_values = retrospective.load_entity_table_with_shapley_values()\n",
    "images_with_shapley_values"
   ]
  },
  {
   "cell_type": "markdown",
   "metadata": {},
   "source": [
    "### Count the number of tuples with negative Shapley values in the raw input"
   ]
  },
  {
   "cell_type": "code",
   "execution_count": 8,
   "metadata": {},
   "outputs": [
    {
     "data": {
      "text/plain": [
       "273"
      ]
     },
     "execution_count": 8,
     "metadata": {},
     "output_type": "execute_result"
    }
   ],
   "source": [
    "len(images_with_shapley_values[images_with_shapley_values['__shapley_value'] < 0])"
   ]
  },
  {
   "cell_type": "markdown",
   "metadata": {},
   "source": [
    "### Join product category information to analyze the label errors per category\n",
    "\n",
    "ArgusEyes allows us to load the original product categories input data and join it with the valued input tuples."
   ]
  },
  {
   "cell_type": "code",
   "execution_count": 9,
   "metadata": {},
   "outputs": [
    {
     "data": {
      "text/html": [
       "<div>\n",
       "<style scoped>\n",
       "    .dataframe tbody tr th:only-of-type {\n",
       "        vertical-align: middle;\n",
       "    }\n",
       "\n",
       "    .dataframe tbody tr th {\n",
       "        vertical-align: top;\n",
       "    }\n",
       "\n",
       "    .dataframe thead th {\n",
       "        text-align: right;\n",
       "    }\n",
       "</style>\n",
       "<table border=\"1\" class=\"dataframe\">\n",
       "  <thead>\n",
       "    <tr style=\"text-align: right;\">\n",
       "      <th></th>\n",
       "      <th>category_id</th>\n",
       "      <th>category_name</th>\n",
       "    </tr>\n",
       "  </thead>\n",
       "  <tbody>\n",
       "    <tr>\n",
       "      <th>0</th>\n",
       "      <td>0</td>\n",
       "      <td>T-shirt/top</td>\n",
       "    </tr>\n",
       "    <tr>\n",
       "      <th>1</th>\n",
       "      <td>1</td>\n",
       "      <td>Trouser</td>\n",
       "    </tr>\n",
       "    <tr>\n",
       "      <th>2</th>\n",
       "      <td>2</td>\n",
       "      <td>Pullover</td>\n",
       "    </tr>\n",
       "    <tr>\n",
       "      <th>3</th>\n",
       "      <td>3</td>\n",
       "      <td>Dress</td>\n",
       "    </tr>\n",
       "    <tr>\n",
       "      <th>4</th>\n",
       "      <td>4</td>\n",
       "      <td>Coat</td>\n",
       "    </tr>\n",
       "    <tr>\n",
       "      <th>5</th>\n",
       "      <td>5</td>\n",
       "      <td>Sandal</td>\n",
       "    </tr>\n",
       "    <tr>\n",
       "      <th>6</th>\n",
       "      <td>6</td>\n",
       "      <td>Shirt</td>\n",
       "    </tr>\n",
       "    <tr>\n",
       "      <th>7</th>\n",
       "      <td>7</td>\n",
       "      <td>Sneaker</td>\n",
       "    </tr>\n",
       "    <tr>\n",
       "      <th>8</th>\n",
       "      <td>8</td>\n",
       "      <td>Bag</td>\n",
       "    </tr>\n",
       "    <tr>\n",
       "      <th>9</th>\n",
       "      <td>9</td>\n",
       "      <td>Ankle boot</td>\n",
       "    </tr>\n",
       "  </tbody>\n",
       "</table>\n",
       "</div>"
      ],
      "text/plain": [
       "   category_id category_name\n",
       "0            0   T-shirt/top\n",
       "1            1       Trouser\n",
       "2            2      Pullover\n",
       "3            3         Dress\n",
       "4            4          Coat\n",
       "5            5        Sandal\n",
       "6            6         Shirt\n",
       "7            7       Sneaker\n",
       "8            8           Bag\n",
       "9            9    Ankle boot"
      ]
     },
     "execution_count": 9,
     "metadata": {},
     "output_type": "execute_result"
    }
   ],
   "source": [
    "categories, _ = run.load_input(2)\n",
    "categories"
   ]
  },
  {
   "cell_type": "code",
   "execution_count": 14,
   "metadata": {},
   "outputs": [],
   "source": [
    "images_with_shapley_values = images_with_shapley_values.merge(categories, on='category_id')"
   ]
  },
  {
   "cell_type": "markdown",
   "metadata": {},
   "source": [
    "### Analyze the distribution of potential label errors over the product categories\n",
    "\n",
    "We find that the label errors occur in both the sneaker and ankle boot images with roughly the same frequency"
   ]
  },
  {
   "cell_type": "code",
   "execution_count": 16,
   "metadata": {},
   "outputs": [
    {
     "data": {
      "text/plain": [
       "Sneaker       139\n",
       "Ankle boot    134\n",
       "Name: category_name, dtype: int64"
      ]
     },
     "execution_count": 16,
     "metadata": {},
     "output_type": "execute_result"
    }
   ],
   "source": [
    "potentially_mislabeled = images_with_shapley_values[images_with_shapley_values['__shapley_value'] < 0]\n",
    "potentially_mislabeled.category_name.value_counts()"
   ]
  },
  {
   "cell_type": "markdown",
   "metadata": {},
   "source": [
    "### Visually confirm the label errors\n",
    "\n",
    "Finally, we visually inspect the images per category with the lowest Shapley values to confirm that they are indeed mislabeled. We write a helper function to plot product images."
   ]
  },
  {
   "cell_type": "code",
   "execution_count": 17,
   "metadata": {},
   "outputs": [],
   "source": [
    "def plot_worst_shapley(worst_images):\n",
    "    import matplotlib.pyplot as plt\n",
    "\n",
    "    fig, ax = plt.subplots(1, len(worst_images))\n",
    "\n",
    "\n",
    "    for index, axis in enumerate(ax):\n",
    "        category = worst_images.iloc[index].category_name  \n",
    "        value = worst_images.iloc[index]['__shapley_value']\n",
    "        axis.imshow(worst_images.iloc[index].image.reshape(28, 28, 1), cmap='gray')\n",
    "        axis.set_title(f'Label:\\n{category}\\n\\nShapley\\nvalue:\\n{value:.5f}')\n",
    "        axis.get_xaxis().set_visible(False)\n",
    "        axis.get_yaxis().set_visible(False)\n",
    "\n",
    "    plt.tight_layout()    \n",
    "    fig.set_size_inches(8, 4)\n",
    "    plt.show()"
   ]
  },
  {
   "cell_type": "markdown",
   "metadata": {},
   "source": [
    "### Ankleboots mislabeled as sneakers!\n",
    "\n",
    "When analyzing the seven sneaker images with the lowest Shapley values, we find that they are actually pictures of Ankleboots that have been accidentally labeled as sneakers."
   ]
  },
  {
   "cell_type": "code",
   "execution_count": 21,
   "metadata": {},
   "outputs": [
    {
     "data": {
      "image/png": "[encoded data removed]",
      "text/plain": [
       "<Figure size 800x400 with 7 Axes>"
      ]
     },
     "metadata": {},
     "output_type": "display_data"
    }
   ],
   "source": [
    "sneakers = potentially_mislabeled[potentially_mislabeled.category_name=='Sneaker']\n",
    "worst_sneakers = sneakers.sort_values(by=['__shapley_value'])[:7]\n",
    "plot_worst_shapley(worst_sneakers)"
   ]
  },
  {
   "cell_type": "markdown",
   "metadata": {},
   "source": [
    "### Sneakers mislabeled as ankleboots!\n",
    "\n",
    "When analyzing the seven ankle boot images with the lowest Shapley values, we find that they are actually pictures of sneakers that have been accidentally labeled as ankle boots."
   ]
  },
  {
   "cell_type": "code",
   "execution_count": 22,
   "metadata": {},
   "outputs": [
    {
     "data": {
      "image/png": "[encoded data removed]",
      "text/plain": [
       "<Figure size 800x400 with 7 Axes>"
      ]
     },
     "metadata": {},
     "output_type": "display_data"
    }
   ],
   "source": [
    "ankleboots = potentially_mislabeled[potentially_mislabeled.category_name=='Ankle boot']\n",
    "worst_ankleboots = ankleboots.sort_values(by=['__shapley_value'])[:7]\n",
    "plot_worst_shapley(worst_ankleboots)"
   ]
  },
  {
   "cell_type": "markdown",
   "metadata": {},
   "source": [
    "### Fixing the pipeline\n",
    "\n",
    "In order to fix the pipeline and improve its prediction performance, we have to either (a) exclude the mislabeled images from the input, or (b) manually fix the labels for them. Rerunning the pipeline with a cleaned input dataset results in a higher classification accuracy. \n"
   ]
  },
  {
   "cell_type": "code",
   "execution_count": null,
   "metadata": {},
   "outputs": [],
   "source": []
  }
 ],
 "metadata": {
  "kernelspec": {
   "display_name": "Python 3 (ipykernel)",
   "language": "python",
   "name": "python3"
  },
  "language_info": {
   "codemirror_mode": {
    "name": "ipython",
    "version": 3
   },
   "file_extension": ".py",
   "mimetype": "text/x-python",
   "name": "python",
   "nbconvert_exporter": "python",
   "pygments_lexer": "ipython3",
   "version": "3.9.13"
  }
 },
 "nbformat": 4,
 "nbformat_minor": 4
}
