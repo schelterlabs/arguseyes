{
 "cells": [
  {
   "cell_type": "code",
   "execution_count": 25,
   "metadata": {},
   "outputs": [],
   "source": [
    "import time\n",
    "import requests\n",
    "import json\n",
    "\n",
    "def get_reddit(subreddit, after=None):\n",
    "    time.sleep(1.5)    \n",
    "    \n",
    "    destination_file = f'reddit-{subreddit}.txt'\n",
    "    base_url = f'https://www.reddit.com/r/{subreddit}/controversial.json?limit=100&t=year'\n",
    "    \n",
    "    if after is not None:\n",
    "        base_url += f'&after=t3_{after}'\n",
    "        destination_file = f'reddit-{subreddit}_{after}.txt'        \n",
    "        \n",
    "    print(f'Loading posts from {base_url}')        \n",
    "    request = requests.get(base_url, headers = {'User-agent': 'development'})\n",
    "    response = request.json()\n",
    "    with open(destination_file, \"w\") as outfile:\n",
    "        outfile.write(json.dumps(response))\n",
    "    return response\n"
   ]
  },
  {
   "cell_type": "code",
   "execution_count": 29,
   "metadata": {},
   "outputs": [
    {
     "name": "stdout",
     "output_type": "stream",
     "text": [
      "Loading posts from https://www.reddit.com/r/bullying/controversial.json?limit=100&t=year\n",
      "Loading posts from https://www.reddit.com/r/bullying/controversial.json?limit=100&t=year&after=t3_w9924g\n",
      "Loading posts from https://www.reddit.com/r/bullying/controversial.json?limit=100&t=year&after=t3_zagcku\n",
      "Loading posts from https://www.reddit.com/r/bullying/controversial.json?limit=100&t=year&after=t3_ycqpjc\n",
      "Loading posts from https://www.reddit.com/r/bullying/controversial.json?limit=100&t=year&after=t3_xf1ifr\n",
      "Loading posts from https://www.reddit.com/r/bullying/controversial.json?limit=100&t=year&after=t3_wbzt8u\n",
      "Loading posts from https://www.reddit.com/r/bullying/controversial.json?limit=100&t=year&after=t3_vd11ym\n",
      "Loading posts from https://www.reddit.com/r/bullying/controversial.json?limit=100&t=year&after=t3_ufos2a\n",
      "Loading posts from https://www.reddit.com/r/bullying/controversial.json?limit=100&t=year&after=t3_ta46qm\n",
      "Loading posts from https://www.reddit.com/r/bullying/controversial.json?limit=100&t=year&after=t3_s0phg7\n",
      "Loading posts from https://www.reddit.com/r/selfimprovement/controversial.json?limit=100&t=year\n",
      "Loading posts from https://www.reddit.com/r/selfimprovement/controversial.json?limit=100&t=year&after=t3_yvyppi\n",
      "Loading posts from https://www.reddit.com/r/selfimprovement/controversial.json?limit=100&t=year&after=t3_yzbp5g\n",
      "Loading posts from https://www.reddit.com/r/selfimprovement/controversial.json?limit=100&t=year&after=t3_vxiw03\n",
      "Loading posts from https://www.reddit.com/r/selfimprovement/controversial.json?limit=100&t=year&after=t3_s83sxm\n",
      "Loading posts from https://www.reddit.com/r/selfimprovement/controversial.json?limit=100&t=year&after=t3_xtxwto\n",
      "Loading posts from https://www.reddit.com/r/selfimprovement/controversial.json?limit=100&t=year&after=t3_rvm6e9\n",
      "Loading posts from https://www.reddit.com/r/selfimprovement/controversial.json?limit=100&t=year&after=t3_ti6uxb\n",
      "Loading posts from https://www.reddit.com/r/selfimprovement/controversial.json?limit=100&t=year&after=t3_u0e0ui\n",
      "Loading posts from https://www.reddit.com/r/selfimprovement/controversial.json?limit=100&t=year&after=t3_zgzili\n",
      "Loading posts from https://www.reddit.com/r/depression/controversial.json?limit=100&t=year\n",
      "Loading posts from https://www.reddit.com/r/depression/controversial.json?limit=100&t=year&after=t3_wla6qq\n",
      "Loading posts from https://www.reddit.com/r/depression/controversial.json?limit=100&t=year&after=t3_zpcc57\n",
      "Loading posts from https://www.reddit.com/r/depression/controversial.json?limit=100&t=year&after=t3_t5oi2c\n",
      "Loading posts from https://www.reddit.com/r/depression/controversial.json?limit=100&t=year&after=t3_uryjl6\n",
      "Loading posts from https://www.reddit.com/r/depression/controversial.json?limit=100&t=year&after=t3_uz6e3y\n",
      "Loading posts from https://www.reddit.com/r/depression/controversial.json?limit=100&t=year&after=t3_zasijf\n",
      "Loading posts from https://www.reddit.com/r/depression/controversial.json?limit=100&t=year&after=t3_yl42zn\n",
      "Loading posts from https://www.reddit.com/r/depression/controversial.json?limit=100&t=year&after=t3_xsqi9v\n",
      "Loading posts from https://www.reddit.com/r/depression/controversial.json?limit=100&t=year&after=t3_x32ltx\n",
      "Loading posts from https://www.reddit.com/r/FengShui/controversial.json?limit=100&t=year\n",
      "Loading posts from https://www.reddit.com/r/FengShui/controversial.json?limit=100&t=year&after=t3_zlktov\n",
      "Loading posts from https://www.reddit.com/r/FengShui/controversial.json?limit=100&t=year&after=t3_x8nmud\n",
      "Loading posts from https://www.reddit.com/r/FengShui/controversial.json?limit=100&t=year&after=t3_v706of\n",
      "Loading posts from https://www.reddit.com/r/FengShui/controversial.json?limit=100&t=year&after=t3_san4gg\n",
      "Loading posts from https://www.reddit.com/r/FengShui/controversial.json?limit=100&t=year&after=t3_rp6j88\n",
      "Loading posts from https://www.reddit.com/r/FengShui/controversial.json?limit=100&t=year&after=t3_rp6j88\n",
      "Loading posts from https://www.reddit.com/r/FengShui/controversial.json?limit=100&t=year&after=t3_rp6j88\n",
      "Loading posts from https://www.reddit.com/r/FengShui/controversial.json?limit=100&t=year&after=t3_rp6j88\n",
      "Loading posts from https://www.reddit.com/r/FengShui/controversial.json?limit=100&t=year&after=t3_rp6j88\n"
     ]
    }
   ],
   "source": [
    "for subreddit in ['bullying', 'selfimprovement', 'depression', 'FengShui']:\n",
    "    last_identifier = None\n",
    "    for _ in range(0, 10):\n",
    "        raw_response = get_reddit(subreddit, after=last_identifier)\n",
    "\n",
    "        for post in raw_response['data']['children']:\n",
    "                last_identifier = post['data']['id']"
   ]
  },
  {
   "cell_type": "code",
   "execution_count": null,
   "metadata": {},
   "outputs": [],
   "source": []
  }
 ],
 "metadata": {
  "kernelspec": {
   "display_name": "Python 3 (ipykernel)",
   "language": "python",
   "name": "python3"
  },
  "language_info": {
   "codemirror_mode": {
    "name": "ipython",
    "version": 3
   },
   "file_extension": ".py",
   "mimetype": "text/x-python",
   "name": "python",
   "nbconvert_exporter": "python",
   "pygments_lexer": "ipython3",
   "version": "3.9.13"
  }
 },
 "nbformat": 4,
 "nbformat_minor": 4
}
