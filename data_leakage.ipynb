{
 "cells": [
  {
   "cell_type": "code",
   "execution_count": 1,
   "metadata": {},
   "outputs": [],
   "source": [
    "from arguseyes.retrospective import PipelineRun, DataLeakageRetrospective\n",
    "\n",
    "run = PipelineRun(run_id='bc07e7b4c8c54ee694078030860649b2')"
   ]
  },
  {
   "cell_type": "code",
   "execution_count": 2,
   "metadata": {},
   "outputs": [
    {
     "data": {
      "text/markdown": [
       "```Python\n",
       "# https://github.com/mlflow/mlp-regression-example/\n",
       "import logging\n",
       "\n",
       "from typing import Dict, Any\n",
       "import pandas as pd\n",
       "from pandas import DataFrame\n",
       "from sklearn.compose import ColumnTransformer\n",
       "from sklearn.pipeline import Pipeline\n",
       "from sklearn.preprocessing import OneHotEncoder, StandardScaler, FunctionTransformer\n",
       "\n",
       "_logger = logging.getLogger(__name__)\n",
       "pd.options.mode.chained_assignment = None\n",
       "\n",
       "\n",
       "def load_file_as_dataframe(file_path: str, file_format: str) -> DataFrame:\n",
       "    if file_format == \"csv\":\n",
       "        import pandas\n",
       "        return pandas.read_csv(file_path)\n",
       "    elif file_format == \"parquet\":\n",
       "        import pandas\n",
       "        return pandas.read_parquet(file_path)\n",
       "    else:\n",
       "        raise NotImplementedError\n",
       "\n",
       "\n",
       "def filter_dataset(dataset: DataFrame):\n",
       "    filtered_dataset = dataset.dropna()\n",
       "    filtered_dataset = filtered_dataset[filtered_dataset[\"fare_amount\"] > 0]\n",
       "    filtered_dataset = filtered_dataset[filtered_dataset[\"trip_distance\"] < 400]\n",
       "    filtered_dataset = filtered_dataset[filtered_dataset[\"trip_distance\"] > 0]\n",
       "    filtered_dataset = filtered_dataset[filtered_dataset[\"fare_amount\"] < 1000]\n",
       "    return filtered_dataset\n",
       "\n",
       "\n",
       "def calculate_features(df: DataFrame):\n",
       "    df[\"pickup_dow\"] = df[\"tpep_pickup_datetime\"].dt.dayofweek\n",
       "    df[\"pickup_hour\"] = df[\"tpep_pickup_datetime\"].dt.hour\n",
       "    trip_duration = df[\"tpep_dropoff_datetime\"] - df[\"tpep_pickup_datetime\"]\n",
       "    df[\"trip_duration\"] = trip_duration.map(lambda x: x.total_seconds() / 60)\n",
       "    dateTimeColumns = list(df.select_dtypes(include=['datetime64']).columns)\n",
       "    for dateTimeColumn in dateTimeColumns:\n",
       "        df[dateTimeColumn] = df[dateTimeColumn].astype(str)\n",
       "    df.drop(columns=[\"tpep_pickup_datetime\", \"tpep_dropoff_datetime\"], inplace=True)\n",
       "    return df\n",
       "\n",
       "\n",
       "def transformer_fn():\n",
       "    return Pipeline(\n",
       "        steps=[\n",
       "            (\"calculate_time_and_duration_features\", FunctionTransformer(calculate_features)),\n",
       "            (\"encoder\", ColumnTransformer(\n",
       "                transformers=[\n",
       "                    (\"hour_encoder\", OneHotEncoder(categories=\"auto\", sparse=False), [\"pickup_hour\"],),\n",
       "                    (\"day_encoder\", OneHotEncoder(categories=\"auto\", sparse=False), [\"pickup_dow\"],),\n",
       "                    (\"std_scaler\", StandardScaler(), [\"trip_distance\", \"trip_duration\"],),]),),\n",
       "        ]\n",
       "    )\n",
       "\n",
       "\n",
       "def estimator_fn(estimator_params: Dict[str, Any] = {}):\n",
       "    from sklearn.linear_model import SGDRegressor\n",
       "    return SGDRegressor(random_state=42, **estimator_params)\n",
       "\n",
       "\n",
       "data = load_file_as_dataframe('datasets/nyc-taxi/sample.parquet', 'parquet')\n",
       "filtered_data = filter_dataset(data)\n",
       "\n",
       "temporal_split_date = pd.to_datetime('2016-02-15')\n",
       "\n",
       "train_data = filtered_data[filtered_data['tpep_dropoff_datetime'].dt.date <= temporal_split_date]\n",
       "test_data = filtered_data[filtered_data['tpep_dropoff_datetime'].dt.date >= temporal_split_date]\n",
       "\n",
       "model = Pipeline([\n",
       "    ('featurization', transformer_fn()),\n",
       "    ('learner', estimator_fn())\n",
       "])\n",
       "\n",
       "model.fit(train_data, train_data['fare_amount'])\n",
       "print(model.score(test_data, test_data['fare_amount']))\n",
       "\n",
       "```"
      ],
      "text/plain": [
       "<IPython.core.display.Markdown object>"
      ]
     },
     "execution_count": 2,
     "metadata": {},
     "output_type": "execute_result"
    }
   ],
   "source": [
    "run.show_source_code()"
   ]
  },
  {
   "cell_type": "code",
   "execution_count": 3,
   "metadata": {},
   "outputs": [
    {
     "data": {
      "text/markdown": [
       "# Pipeline Data Explorer"
      ],
      "text/plain": [
       "<IPython.core.display.Markdown object>"
      ]
     },
     "metadata": {},
     "output_type": "display_data"
    },
    {
     "data": {
      "application/vnd.jupyter.widget-view+json": {
       "model_id": "b1775eee42af48f682cce33b7cfaab55",
       "version_major": 2,
       "version_minor": 0
      },
      "text/plain": [
       "HBox(children=(CytoscapeWidget(cytoscape_layout={'name': 'dagre'}, cytoscape_style=[{'selector': 'node', 'css'…"
      ]
     },
     "metadata": {},
     "output_type": "display_data"
    }
   ],
   "source": [
    "run.explore_data()"
   ]
  },
  {
   "cell_type": "code",
   "execution_count": 4,
   "metadata": {},
   "outputs": [],
   "source": [
    "retrospective = DataLeakageRetrospective(run)"
   ]
  },
  {
   "cell_type": "code",
   "execution_count": 5,
   "metadata": {},
   "outputs": [
    {
     "data": {
      "text/html": [
       "<div>\n",
       "<style scoped>\n",
       "    .dataframe tbody tr th:only-of-type {\n",
       "        vertical-align: middle;\n",
       "    }\n",
       "\n",
       "    .dataframe tbody tr th {\n",
       "        vertical-align: top;\n",
       "    }\n",
       "\n",
       "    .dataframe thead th {\n",
       "        text-align: right;\n",
       "    }\n",
       "</style>\n",
       "<table border=\"1\" class=\"dataframe\">\n",
       "  <thead>\n",
       "    <tr style=\"text-align: right;\">\n",
       "      <th></th>\n",
       "      <th>tpep_pickup_datetime</th>\n",
       "      <th>tpep_dropoff_datetime</th>\n",
       "      <th>trip_distance</th>\n",
       "      <th>fare_amount</th>\n",
       "      <th>pickup_zip</th>\n",
       "      <th>dropoff_zip</th>\n",
       "    </tr>\n",
       "  </thead>\n",
       "  <tbody>\n",
       "    <tr>\n",
       "      <th>37</th>\n",
       "      <td>2016-02-15 01:45:11</td>\n",
       "      <td>2016-02-15 01:48:40</td>\n",
       "      <td>0.60</td>\n",
       "      <td>4.5</td>\n",
       "      <td>10153</td>\n",
       "      <td>10065</td>\n",
       "    </tr>\n",
       "    <tr>\n",
       "      <th>57</th>\n",
       "      <td>2016-02-15 08:51:02</td>\n",
       "      <td>2016-02-15 09:06:27</td>\n",
       "      <td>5.50</td>\n",
       "      <td>17.0</td>\n",
       "      <td>11371</td>\n",
       "      <td>11379</td>\n",
       "    </tr>\n",
       "    <tr>\n",
       "      <th>73</th>\n",
       "      <td>2016-02-15 23:03:19</td>\n",
       "      <td>2016-02-15 23:38:15</td>\n",
       "      <td>11.40</td>\n",
       "      <td>35.0</td>\n",
       "      <td>11371</td>\n",
       "      <td>10011</td>\n",
       "    </tr>\n",
       "    <tr>\n",
       "      <th>77</th>\n",
       "      <td>2016-02-15 16:41:54</td>\n",
       "      <td>2016-02-15 17:38:20</td>\n",
       "      <td>18.43</td>\n",
       "      <td>52.0</td>\n",
       "      <td>11422</td>\n",
       "      <td>10011</td>\n",
       "    </tr>\n",
       "    <tr>\n",
       "      <th>144</th>\n",
       "      <td>2016-02-15 12:44:51</td>\n",
       "      <td>2016-02-15 13:07:39</td>\n",
       "      <td>3.48</td>\n",
       "      <td>16.5</td>\n",
       "      <td>10011</td>\n",
       "      <td>10022</td>\n",
       "    </tr>\n",
       "    <tr>\n",
       "      <th>...</th>\n",
       "      <td>...</td>\n",
       "      <td>...</td>\n",
       "      <td>...</td>\n",
       "      <td>...</td>\n",
       "      <td>...</td>\n",
       "      <td>...</td>\n",
       "    </tr>\n",
       "    <tr>\n",
       "      <th>9016</th>\n",
       "      <td>2016-02-15 21:02:47</td>\n",
       "      <td>2016-02-15 21:05:27</td>\n",
       "      <td>1.06</td>\n",
       "      <td>5.0</td>\n",
       "      <td>10035</td>\n",
       "      <td>10029</td>\n",
       "    </tr>\n",
       "    <tr>\n",
       "      <th>9045</th>\n",
       "      <td>2016-02-15 18:21:15</td>\n",
       "      <td>2016-02-15 18:32:51</td>\n",
       "      <td>1.51</td>\n",
       "      <td>9.0</td>\n",
       "      <td>10119</td>\n",
       "      <td>10103</td>\n",
       "    </tr>\n",
       "    <tr>\n",
       "      <th>9084</th>\n",
       "      <td>2016-02-15 06:46:32</td>\n",
       "      <td>2016-02-15 06:48:29</td>\n",
       "      <td>0.47</td>\n",
       "      <td>3.5</td>\n",
       "      <td>10044</td>\n",
       "      <td>10021</td>\n",
       "    </tr>\n",
       "    <tr>\n",
       "      <th>9113</th>\n",
       "      <td>2016-02-15 11:21:50</td>\n",
       "      <td>2016-02-15 11:27:38</td>\n",
       "      <td>0.84</td>\n",
       "      <td>5.5</td>\n",
       "      <td>10119</td>\n",
       "      <td>10199</td>\n",
       "    </tr>\n",
       "    <tr>\n",
       "      <th>9148</th>\n",
       "      <td>2016-02-15 08:40:44</td>\n",
       "      <td>2016-02-15 08:44:46</td>\n",
       "      <td>0.90</td>\n",
       "      <td>5.5</td>\n",
       "      <td>10014</td>\n",
       "      <td>10014</td>\n",
       "    </tr>\n",
       "  </tbody>\n",
       "</table>\n",
       "<p>177 rows × 6 columns</p>\n",
       "</div>"
      ],
      "text/plain": [
       "     tpep_pickup_datetime tpep_dropoff_datetime  trip_distance  fare_amount  \\\n",
       "37    2016-02-15 01:45:11   2016-02-15 01:48:40           0.60          4.5   \n",
       "57    2016-02-15 08:51:02   2016-02-15 09:06:27           5.50         17.0   \n",
       "73    2016-02-15 23:03:19   2016-02-15 23:38:15          11.40         35.0   \n",
       "77    2016-02-15 16:41:54   2016-02-15 17:38:20          18.43         52.0   \n",
       "144   2016-02-15 12:44:51   2016-02-15 13:07:39           3.48         16.5   \n",
       "...                   ...                   ...            ...          ...   \n",
       "9016  2016-02-15 21:02:47   2016-02-15 21:05:27           1.06          5.0   \n",
       "9045  2016-02-15 18:21:15   2016-02-15 18:32:51           1.51          9.0   \n",
       "9084  2016-02-15 06:46:32   2016-02-15 06:48:29           0.47          3.5   \n",
       "9113  2016-02-15 11:21:50   2016-02-15 11:27:38           0.84          5.5   \n",
       "9148  2016-02-15 08:40:44   2016-02-15 08:44:46           0.90          5.5   \n",
       "\n",
       "      pickup_zip  dropoff_zip  \n",
       "37         10153        10065  \n",
       "57         11371        11379  \n",
       "73         11371        10011  \n",
       "77         11422        10011  \n",
       "144        10011        10022  \n",
       "...          ...          ...  \n",
       "9016       10035        10029  \n",
       "9045       10119        10103  \n",
       "9084       10044        10021  \n",
       "9113       10119        10199  \n",
       "9148       10014        10014  \n",
       "\n",
       "[177 rows x 6 columns]"
      ]
     },
     "execution_count": 5,
     "metadata": {},
     "output_type": "execute_result"
    }
   ],
   "source": [
    "leaked_data = retrospective.compute_leaked_tuples()\n",
    "leaked_data"
   ]
  },
  {
   "cell_type": "code",
   "execution_count": 6,
   "metadata": {},
   "outputs": [
    {
     "data": {
      "text/plain": [
       "count    177.000000\n",
       "mean       3.016497\n",
       "std        3.913846\n",
       "min        0.300000\n",
       "25%        1.000000\n",
       "50%        1.600000\n",
       "75%        2.870000\n",
       "max       19.010000\n",
       "Name: trip_distance, dtype: float64"
      ]
     },
     "execution_count": 6,
     "metadata": {},
     "output_type": "execute_result"
    }
   ],
   "source": [
    "leaked_data.trip_distance.describe()"
   ]
  },
  {
   "cell_type": "code",
   "execution_count": 7,
   "metadata": {},
   "outputs": [
    {
     "data": {
      "text/plain": [
       "2016-02-15    175\n",
       "2016-02-14      2\n",
       "Name: tpep_pickup_datetime, dtype: int64"
      ]
     },
     "execution_count": 7,
     "metadata": {},
     "output_type": "execute_result"
    }
   ],
   "source": [
    "leaked_data.tpep_pickup_datetime.dt.date.value_counts()"
   ]
  },
  {
   "cell_type": "code",
   "execution_count": 8,
   "metadata": {},
   "outputs": [
    {
     "data": {
      "text/plain": [
       "2016-02-15    177\n",
       "Name: tpep_dropoff_datetime, dtype: int64"
      ]
     },
     "execution_count": 8,
     "metadata": {},
     "output_type": "execute_result"
    }
   ],
   "source": [
    "leaked_data.tpep_dropoff_datetime.dt.date.value_counts()"
   ]
  },
  {
   "cell_type": "code",
   "execution_count": null,
   "metadata": {},
   "outputs": [],
   "source": []
  }
 ],
 "metadata": {
  "kernelspec": {
   "display_name": "Python 3 (ipykernel)",
   "language": "python",
   "name": "python3"
  },
  "language_info": {
   "codemirror_mode": {
    "name": "ipython",
    "version": 3
   },
   "file_extension": ".py",
   "mimetype": "text/x-python",
   "name": "python",
   "nbconvert_exporter": "python",
   "pygments_lexer": "ipython3",
   "version": "3.9.13"
  }
 },
 "nbformat": 4,
 "nbformat_minor": 4
}
