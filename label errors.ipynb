{
 "cells": [
  {
   "cell_type": "code",
   "execution_count": 154,
   "metadata": {},
   "outputs": [],
   "source": [
    "import mlflow \n",
    "import pandas as pd\n",
    "import numpy as np\n",
    "\n",
    "run = mlflow.get_run(run_id='757b01413a4e4054a454d97be669ce77')"
   ]
  },
  {
   "cell_type": "code",
   "execution_count": 155,
   "metadata": {},
   "outputs": [],
   "source": [
    "def find_train_sources(run):\n",
    "    \n",
    "    train_sources = {}\n",
    "\n",
    "    for param_key in run.data.params:\n",
    "        if 'arguseyes.train_source' in param_key:\n",
    "            source_index = param_key.split('.')[2]\n",
    "            detail = param_key.split('.')[3]\n",
    "\n",
    "            if not source_index in train_sources:\n",
    "                train_sources[source_index] = {}\n",
    "\n",
    "            train_sources[source_index][detail] = run.data.params[param_key]\n",
    "\n",
    "    return train_sources  "
   ]
  },
  {
   "cell_type": "code",
   "execution_count": 156,
   "metadata": {},
   "outputs": [
    {
     "data": {
      "text/plain": [
       "{'2': {'attributes': \"['category_id', 'category_name']\",\n",
       "  'type': 'SourceType.SIDE_DATA',\n",
       "  'attribute_types': \"['int64', 'object']\",\n",
       "  'num_records': '10'},\n",
       " '0': {'attribute_types': \"['object', 'int64']\",\n",
       "  'attributes': \"['image', 'category_id']\",\n",
       "  'num_records': '4800',\n",
       "  'type': 'SourceType.ENTITIES'}}"
      ]
     },
     "execution_count": 156,
     "metadata": {},
     "output_type": "execute_result"
    }
   ],
   "source": [
    "find_train_sources(run)"
   ]
  },
  {
   "cell_type": "code",
   "execution_count": 157,
   "metadata": {},
   "outputs": [
    {
     "data": {
      "text/html": [
       "<div>\n",
       "<style scoped>\n",
       "    .dataframe tbody tr th:only-of-type {\n",
       "        vertical-align: middle;\n",
       "    }\n",
       "\n",
       "    .dataframe tbody tr th {\n",
       "        vertical-align: top;\n",
       "    }\n",
       "\n",
       "    .dataframe thead th {\n",
       "        text-align: right;\n",
       "    }\n",
       "</style>\n",
       "<table border=\"1\" class=\"dataframe\">\n",
       "  <thead>\n",
       "    <tr style=\"text-align: right;\">\n",
       "      <th></th>\n",
       "      <th>category_id</th>\n",
       "      <th>category_name</th>\n",
       "    </tr>\n",
       "  </thead>\n",
       "  <tbody>\n",
       "    <tr>\n",
       "      <th>0</th>\n",
       "      <td>0</td>\n",
       "      <td>T-shirt/top</td>\n",
       "    </tr>\n",
       "    <tr>\n",
       "      <th>1</th>\n",
       "      <td>1</td>\n",
       "      <td>Trouser</td>\n",
       "    </tr>\n",
       "    <tr>\n",
       "      <th>2</th>\n",
       "      <td>2</td>\n",
       "      <td>Pullover</td>\n",
       "    </tr>\n",
       "    <tr>\n",
       "      <th>3</th>\n",
       "      <td>3</td>\n",
       "      <td>Dress</td>\n",
       "    </tr>\n",
       "    <tr>\n",
       "      <th>4</th>\n",
       "      <td>4</td>\n",
       "      <td>Coat</td>\n",
       "    </tr>\n",
       "    <tr>\n",
       "      <th>5</th>\n",
       "      <td>5</td>\n",
       "      <td>Sandal</td>\n",
       "    </tr>\n",
       "    <tr>\n",
       "      <th>6</th>\n",
       "      <td>6</td>\n",
       "      <td>Shirt</td>\n",
       "    </tr>\n",
       "    <tr>\n",
       "      <th>7</th>\n",
       "      <td>7</td>\n",
       "      <td>Sneaker</td>\n",
       "    </tr>\n",
       "    <tr>\n",
       "      <th>8</th>\n",
       "      <td>8</td>\n",
       "      <td>Bag</td>\n",
       "    </tr>\n",
       "    <tr>\n",
       "      <th>9</th>\n",
       "      <td>9</td>\n",
       "      <td>Ankle boot</td>\n",
       "    </tr>\n",
       "  </tbody>\n",
       "</table>\n",
       "</div>"
      ],
      "text/plain": [
       "   category_id category_name\n",
       "0            0   T-shirt/top\n",
       "1            1       Trouser\n",
       "2            2      Pullover\n",
       "3            3         Dress\n",
       "4            4          Coat\n",
       "5            5        Sandal\n",
       "6            6         Shirt\n",
       "7            7       Sneaker\n",
       "8            8           Bag\n",
       "9            9    Ankle boot"
      ]
     },
     "execution_count": 157,
     "metadata": {},
     "output_type": "execute_result"
    }
   ],
   "source": [
    "side_input_operator_id = 2\n",
    "side_input_path = f'{run.info.artifact_uri}/arguseyes-dagnode-{side_input_operator_id}-lineage-df.parquet'\n",
    "side_input = pd.read_parquet(side_input_path)\n",
    "side_input[['category_id', 'category_name']]"
   ]
  },
  {
   "cell_type": "code",
   "execution_count": 158,
   "metadata": {},
   "outputs": [],
   "source": [
    "input_with_shapley_values_path = f'{run.info.artifact_uri}/{run.data.tags[\"arguseyes.data_valuation.data_file\"]}'\n",
    "valued_input = pd.read_parquet(input_with_shapley_values_path)"
   ]
  },
  {
   "cell_type": "code",
   "execution_count": 159,
   "metadata": {},
   "outputs": [],
   "source": [
    "valued_input_with_categories = valued_input.merge(side_input, on='category_id')"
   ]
  },
  {
   "cell_type": "code",
   "execution_count": 174,
   "metadata": {},
   "outputs": [],
   "source": [
    "def plot_worst_shapley(worst_images):\n",
    "    import matplotlib.pyplot as plt\n",
    "\n",
    "    fig, ax = plt.subplots(1, len(worst_images))\n",
    "\n",
    "\n",
    "    for index, axis in enumerate(ax):\n",
    "        category = worst_images.iloc[index].category_name  \n",
    "        value = worst_images.iloc[index]['__arguseyes__shapley_value']\n",
    "        axis.imshow(worst_images.iloc[index].image.reshape(28, 28, 1), cmap='gray')\n",
    "        axis.set_title(f'{category}\\n{value:.5f}')\n",
    "        axis.get_xaxis().set_visible(False)\n",
    "        axis.get_yaxis().set_visible(False)\n",
    "\n",
    "\n",
    "    plt.tight_layout()    \n",
    "    fig.set_size_inches(6, 4)\n",
    "    plt.show()"
   ]
  },
  {
   "cell_type": "code",
   "execution_count": 175,
   "metadata": {},
   "outputs": [
    {
     "data": {
      "image/png": "[encoded data removed]",
      "text/plain": [
       "<Figure size 600x400 with 5 Axes>"
      ]
     },
     "metadata": {},
     "output_type": "display_data"
    }
   ],
   "source": [
    "sneakers = valued_input_with_categories[valued_input_with_categories.category_name=='Sneaker']\n",
    "worst_sneakers = sneakers.sort_values(by=['__arguseyes__shapley_value'])[:5]\n",
    "plot_worst_shapley(worst_sneakers)"
   ]
  },
  {
   "cell_type": "code",
   "execution_count": 176,
   "metadata": {},
   "outputs": [
    {
     "data": {
      "image/png": "[encoded data removed]",
      "text/plain": [
       "<Figure size 600x400 with 5 Axes>"
      ]
     },
     "metadata": {},
     "output_type": "display_data"
    }
   ],
   "source": [
    "ankleboots = valued_input_with_categories[valued_input_with_categories.category_name=='Ankle boot']\n",
    "worst_ankleboots = ankleboots.sort_values(by=['__arguseyes__shapley_value'])[:5]\n",
    "plot_worst_shapley(worst_ankleboots)"
   ]
  },
  {
   "cell_type": "code",
   "execution_count": null,
   "metadata": {},
   "outputs": [],
   "source": []
  }
 ],
 "metadata": {
  "kernelspec": {
   "display_name": "Python 3 (ipykernel)",
   "language": "python",
   "name": "python3"
  },
  "language_info": {
   "codemirror_mode": {
    "name": "ipython",
    "version": 3
   },
   "file_extension": ".py",
   "mimetype": "text/x-python",
   "name": "python",
   "nbconvert_exporter": "python",
   "pygments_lexer": "ipython3",
   "version": "3.9.13"
  }
 },
 "nbformat": 4,
 "nbformat_minor": 4
}
