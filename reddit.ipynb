{
 "cells": [
  {
   "cell_type": "code",
   "execution_count": 53,
   "metadata": {},
   "outputs": [],
   "source": [
    "import requests\n",
    "import re\n",
    "import pandas as pd\n",
    "import json\n",
    "import time\n",
    "import numpy as np\n",
    "\n",
    "# requires pip install sentence-transformers==2.2.2\n",
    "from sentence_transformers import SentenceTransformer"
   ]
  },
  {
   "cell_type": "code",
   "execution_count": 16,
   "metadata": {},
   "outputs": [],
   "source": [
    "def get_reddit(subreddit, after=None):\n",
    "    time.sleep(0.5)    \n",
    "    source_file = f'reddit-{subreddit}.txt'\n",
    "    base_url = f'https://www.reddit.com/r/{subreddit}/controversial.json?limit=100&t=year'\n",
    "    \n",
    "    if after is not None:\n",
    "        base_url += f'&after=t3_{after}'\n",
    "        source_file = f'reddit-{subreddit}_{after}.txt'        \n",
    "        \n",
    "    print(f'Loading posts from {base_url}')        \n",
    "    #request = requests.get(base_url, headers = {'User-agent': 'development'})\n",
    "    #response = request.json()\n",
    "    with open(source_file, \"r\") as infile:\n",
    "        return json.load(infile)"
   ]
  },
  {
   "cell_type": "code",
   "execution_count": 18,
   "metadata": {},
   "outputs": [
    {
     "name": "stdout",
     "output_type": "stream",
     "text": [
      "Loading posts from https://www.reddit.com/r/bullying/controversial.json?limit=100&t=year\n",
      "Loading posts from https://www.reddit.com/r/bullying/controversial.json?limit=100&t=year&after=t3_w9924g\n",
      "Loading posts from https://www.reddit.com/r/bullying/controversial.json?limit=100&t=year&after=t3_zagcku\n",
      "Loading posts from https://www.reddit.com/r/bullying/controversial.json?limit=100&t=year&after=t3_ycqpjc\n",
      "Loading posts from https://www.reddit.com/r/bullying/controversial.json?limit=100&t=year&after=t3_xf1ifr\n",
      "Loading posts from https://www.reddit.com/r/bullying/controversial.json?limit=100&t=year&after=t3_wbzt8u\n",
      "Loading posts from https://www.reddit.com/r/bullying/controversial.json?limit=100&t=year&after=t3_vd11ym\n",
      "Loading posts from https://www.reddit.com/r/bullying/controversial.json?limit=100&t=year&after=t3_ufos2a\n",
      "Loading posts from https://www.reddit.com/r/bullying/controversial.json?limit=100&t=year&after=t3_ta46qm\n",
      "Loading posts from https://www.reddit.com/r/bullying/controversial.json?limit=100&t=year&after=t3_s0phg7\n",
      "Loading posts from https://www.reddit.com/r/selfimprovement/controversial.json?limit=100&t=year\n",
      "Loading posts from https://www.reddit.com/r/selfimprovement/controversial.json?limit=100&t=year&after=t3_yvyppi\n",
      "Loading posts from https://www.reddit.com/r/selfimprovement/controversial.json?limit=100&t=year&after=t3_yzbp5g\n",
      "Loading posts from https://www.reddit.com/r/selfimprovement/controversial.json?limit=100&t=year&after=t3_vxiw03\n",
      "Loading posts from https://www.reddit.com/r/selfimprovement/controversial.json?limit=100&t=year&after=t3_s83sxm\n",
      "Loading posts from https://www.reddit.com/r/selfimprovement/controversial.json?limit=100&t=year&after=t3_xtxwto\n",
      "Loading posts from https://www.reddit.com/r/selfimprovement/controversial.json?limit=100&t=year&after=t3_rvm6e9\n",
      "Loading posts from https://www.reddit.com/r/selfimprovement/controversial.json?limit=100&t=year&after=t3_ti6uxb\n",
      "Loading posts from https://www.reddit.com/r/selfimprovement/controversial.json?limit=100&t=year&after=t3_u0e0ui\n",
      "Loading posts from https://www.reddit.com/r/selfimprovement/controversial.json?limit=100&t=year&after=t3_zgzili\n",
      "Loading posts from https://www.reddit.com/r/depression/controversial.json?limit=100&t=year\n",
      "Loading posts from https://www.reddit.com/r/depression/controversial.json?limit=100&t=year&after=t3_wla6qq\n",
      "Loading posts from https://www.reddit.com/r/depression/controversial.json?limit=100&t=year&after=t3_zpcc57\n",
      "Loading posts from https://www.reddit.com/r/depression/controversial.json?limit=100&t=year&after=t3_t5oi2c\n",
      "Loading posts from https://www.reddit.com/r/depression/controversial.json?limit=100&t=year&after=t3_uryjl6\n",
      "Loading posts from https://www.reddit.com/r/depression/controversial.json?limit=100&t=year&after=t3_uz6e3y\n",
      "Loading posts from https://www.reddit.com/r/depression/controversial.json?limit=100&t=year&after=t3_zasijf\n",
      "Loading posts from https://www.reddit.com/r/depression/controversial.json?limit=100&t=year&after=t3_yl42zn\n",
      "Loading posts from https://www.reddit.com/r/depression/controversial.json?limit=100&t=year&after=t3_xsqi9v\n",
      "Loading posts from https://www.reddit.com/r/depression/controversial.json?limit=100&t=year&after=t3_x32ltx\n",
      "Loading posts from https://www.reddit.com/r/FengShui/controversial.json?limit=100&t=year\n",
      "Loading posts from https://www.reddit.com/r/FengShui/controversial.json?limit=100&t=year&after=t3_zlktov\n",
      "Loading posts from https://www.reddit.com/r/FengShui/controversial.json?limit=100&t=year&after=t3_x8nmud\n",
      "Loading posts from https://www.reddit.com/r/FengShui/controversial.json?limit=100&t=year&after=t3_v706of\n",
      "Loading posts from https://www.reddit.com/r/FengShui/controversial.json?limit=100&t=year&after=t3_san4gg\n",
      "Loading posts from https://www.reddit.com/r/FengShui/controversial.json?limit=100&t=year&after=t3_rp6j88\n",
      "Loading posts from https://www.reddit.com/r/FengShui/controversial.json?limit=100&t=year&after=t3_rp6j88\n",
      "Loading posts from https://www.reddit.com/r/FengShui/controversial.json?limit=100&t=year&after=t3_rp6j88\n",
      "Loading posts from https://www.reddit.com/r/FengShui/controversial.json?limit=100&t=year&after=t3_rp6j88\n",
      "Loading posts from https://www.reddit.com/r/FengShui/controversial.json?limit=100&t=year&after=t3_rp6j88\n"
     ]
    }
   ],
   "source": [
    "raw_posts = {}\n",
    "for subreddit in ['bullying', 'selfimprovement', 'depression', 'FengShui']:\n",
    "    raw_posts[subreddit] = []\n",
    "    last_identifier = None\n",
    "    for _ in range(0, 10):\n",
    "        raw_response = get_reddit(subreddit, after=last_identifier)\n",
    "\n",
    "        for post in raw_response['data']['children']:\n",
    "                raw_posts[subreddit].append(post)            \n",
    "                last_identifier = post['data']['id']"
   ]
  },
  {
   "cell_type": "code",
   "execution_count": 24,
   "metadata": {},
   "outputs": [],
   "source": [
    "subreddits = ['bullying', 'selfimprovement', 'depression', 'FengShui']\n",
    "\n",
    "prepared_sentences = []\n",
    "for subreddit in subreddits:\n",
    "    for num, post in enumerate(raw_posts[subreddit]):\n",
    "        identifier = post['data']['id']\n",
    "        text = post['data']['selftext']\n",
    "        sentences = re.split(r' *[\\.\\?!][\\'\"\\)\\]]* *', text)\n",
    "        for index, sentence in enumerate(sentences):\n",
    "            sentence_id = identifier + '_' + str(index)\n",
    "            prepared_sentences.append((sentence_id, sentence, subreddit))\n",
    "            \n",
    "labeled_sentences = pd.DataFrame.from_records(prepared_sentences, columns=['id', 'text', 'origin'])            "
   ]
  },
  {
   "cell_type": "code",
   "execution_count": 25,
   "metadata": {},
   "outputs": [
    {
     "data": {
      "text/html": [
       "<div>\n",
       "<style scoped>\n",
       "    .dataframe tbody tr th:only-of-type {\n",
       "        vertical-align: middle;\n",
       "    }\n",
       "\n",
       "    .dataframe tbody tr th {\n",
       "        vertical-align: top;\n",
       "    }\n",
       "\n",
       "    .dataframe thead th {\n",
       "        text-align: right;\n",
       "    }\n",
       "</style>\n",
       "<table border=\"1\" class=\"dataframe\">\n",
       "  <thead>\n",
       "    <tr style=\"text-align: right;\">\n",
       "      <th></th>\n",
       "      <th>id</th>\n",
       "      <th>text</th>\n",
       "      <th>origin</th>\n",
       "    </tr>\n",
       "  </thead>\n",
       "  <tbody>\n",
       "    <tr>\n",
       "      <th>0</th>\n",
       "      <td>x6d5qc_0</td>\n",
       "      <td>I was bullied by girls all my life but I would...</td>\n",
       "      <td>bullying</td>\n",
       "    </tr>\n",
       "    <tr>\n",
       "      <th>1</th>\n",
       "      <td>x6d5qc_1</td>\n",
       "      <td>They can't even bully rightly like verbally as...</td>\n",
       "      <td>bullying</td>\n",
       "    </tr>\n",
       "    <tr>\n",
       "      <th>2</th>\n",
       "      <td>x6d5qc_2</td>\n",
       "      <td>Nothing\\nThey can't even bully rightly \\nAlso ...</td>\n",
       "      <td>bullying</td>\n",
       "    </tr>\n",
       "    <tr>\n",
       "      <th>3</th>\n",
       "      <td>x6d5qc_3</td>\n",
       "      <td>\\nAlso don't watch a woman's cunt only a man's...</td>\n",
       "      <td>bullying</td>\n",
       "    </tr>\n",
       "    <tr>\n",
       "      <th>4</th>\n",
       "      <td>x6d5qc_4</td>\n",
       "      <td></td>\n",
       "      <td>bullying</td>\n",
       "    </tr>\n",
       "    <tr>\n",
       "      <th>...</th>\n",
       "      <td>...</td>\n",
       "      <td>...</td>\n",
       "      <td>...</td>\n",
       "    </tr>\n",
       "    <tr>\n",
       "      <th>39796</th>\n",
       "      <td>rpabe4_8</td>\n",
       "      <td>width=3371&amp;amp;format=png&amp;amp;auto=webp&amp;amp;s=...</td>\n",
       "      <td>FengShui</td>\n",
       "    </tr>\n",
       "    <tr>\n",
       "      <th>39797</th>\n",
       "      <td>rp6j88_0</td>\n",
       "      <td>Just wondering if anyone else is doing a deep...</td>\n",
       "      <td>FengShui</td>\n",
       "    </tr>\n",
       "    <tr>\n",
       "      <th>39798</th>\n",
       "      <td>rp6j88_1</td>\n",
       "      <td>I got into the cleaning spirit on bedroom clos...</td>\n",
       "      <td>FengShui</td>\n",
       "    </tr>\n",
       "    <tr>\n",
       "      <th>39799</th>\n",
       "      <td>rp6j88_2</td>\n",
       "      <td>Planning on painting by spring , so cleaning n...</td>\n",
       "      <td>FengShui</td>\n",
       "    </tr>\n",
       "    <tr>\n",
       "      <th>39800</th>\n",
       "      <td>rp6j88_3</td>\n",
       "      <td></td>\n",
       "      <td>FengShui</td>\n",
       "    </tr>\n",
       "  </tbody>\n",
       "</table>\n",
       "<p>39801 rows × 3 columns</p>\n",
       "</div>"
      ],
      "text/plain": [
       "             id                                               text    origin\n",
       "0      x6d5qc_0  I was bullied by girls all my life but I would...  bullying\n",
       "1      x6d5qc_1  They can't even bully rightly like verbally as...  bullying\n",
       "2      x6d5qc_2  Nothing\\nThey can't even bully rightly \\nAlso ...  bullying\n",
       "3      x6d5qc_3  \\nAlso don't watch a woman's cunt only a man's...  bullying\n",
       "4      x6d5qc_4                                                     bullying\n",
       "...         ...                                                ...       ...\n",
       "39796  rpabe4_8  width=3371&amp;format=png&amp;auto=webp&amp;s=...  FengShui\n",
       "39797  rp6j88_0   Just wondering if anyone else is doing a deep...  FengShui\n",
       "39798  rp6j88_1  I got into the cleaning spirit on bedroom clos...  FengShui\n",
       "39799  rp6j88_2  Planning on painting by spring , so cleaning n...  FengShui\n",
       "39800  rp6j88_3                                                     FengShui\n",
       "\n",
       "[39801 rows x 3 columns]"
      ]
     },
     "execution_count": 25,
     "metadata": {},
     "output_type": "execute_result"
    }
   ],
   "source": [
    "labeled_sentences"
   ]
  },
  {
   "cell_type": "code",
   "execution_count": 29,
   "metadata": {},
   "outputs": [],
   "source": [
    "url_regex = '((http|https)\\:\\/\\/)?[a-zA-Z0-9\\.\\/\\?\\:@\\-_=#]+\\.([a-zA-Z]){2,6}([a-zA-Z0-9\\.\\&\\/\\?\\:@\\-_=#])*'\n",
    "filtered_sentences = labeled_sentences[labeled_sentences.text.str.len() > 20]\n",
    "filtered_sentences = filtered_sentences[~filtered_sentences.text.str.match(url_regex)]"
   ]
  },
  {
   "cell_type": "code",
   "execution_count": 30,
   "metadata": {},
   "outputs": [
    {
     "data": {
      "text/html": [
       "<div>\n",
       "<style scoped>\n",
       "    .dataframe tbody tr th:only-of-type {\n",
       "        vertical-align: middle;\n",
       "    }\n",
       "\n",
       "    .dataframe tbody tr th {\n",
       "        vertical-align: top;\n",
       "    }\n",
       "\n",
       "    .dataframe thead th {\n",
       "        text-align: right;\n",
       "    }\n",
       "</style>\n",
       "<table border=\"1\" class=\"dataframe\">\n",
       "  <thead>\n",
       "    <tr style=\"text-align: right;\">\n",
       "      <th></th>\n",
       "      <th>id</th>\n",
       "      <th>text</th>\n",
       "      <th>origin</th>\n",
       "    </tr>\n",
       "  </thead>\n",
       "  <tbody>\n",
       "    <tr>\n",
       "      <th>0</th>\n",
       "      <td>x6d5qc_0</td>\n",
       "      <td>I was bullied by girls all my life but I would...</td>\n",
       "      <td>bullying</td>\n",
       "    </tr>\n",
       "    <tr>\n",
       "      <th>1</th>\n",
       "      <td>x6d5qc_1</td>\n",
       "      <td>They can't even bully rightly like verbally as...</td>\n",
       "      <td>bullying</td>\n",
       "    </tr>\n",
       "    <tr>\n",
       "      <th>2</th>\n",
       "      <td>x6d5qc_2</td>\n",
       "      <td>Nothing\\nThey can't even bully rightly \\nAlso ...</td>\n",
       "      <td>bullying</td>\n",
       "    </tr>\n",
       "    <tr>\n",
       "      <th>3</th>\n",
       "      <td>x6d5qc_3</td>\n",
       "      <td>\\nAlso don't watch a woman's cunt only a man's...</td>\n",
       "      <td>bullying</td>\n",
       "    </tr>\n",
       "    <tr>\n",
       "      <th>5</th>\n",
       "      <td>vcbknn_0</td>\n",
       "      <td>\"Bullying is coercion--Implicit or explicit th...</td>\n",
       "      <td>bullying</td>\n",
       "    </tr>\n",
       "    <tr>\n",
       "      <th>...</th>\n",
       "      <td>...</td>\n",
       "      <td>...</td>\n",
       "      <td>...</td>\n",
       "    </tr>\n",
       "    <tr>\n",
       "      <th>39790</th>\n",
       "      <td>rpabe4_2</td>\n",
       "      <td>In other words, all the other houses on that s...</td>\n",
       "      <td>FengShui</td>\n",
       "    </tr>\n",
       "    <tr>\n",
       "      <th>39796</th>\n",
       "      <td>rpabe4_8</td>\n",
       "      <td>width=3371&amp;amp;format=png&amp;amp;auto=webp&amp;amp;s=...</td>\n",
       "      <td>FengShui</td>\n",
       "    </tr>\n",
       "    <tr>\n",
       "      <th>39797</th>\n",
       "      <td>rp6j88_0</td>\n",
       "      <td>Just wondering if anyone else is doing a deep...</td>\n",
       "      <td>FengShui</td>\n",
       "    </tr>\n",
       "    <tr>\n",
       "      <th>39798</th>\n",
       "      <td>rp6j88_1</td>\n",
       "      <td>I got into the cleaning spirit on bedroom clos...</td>\n",
       "      <td>FengShui</td>\n",
       "    </tr>\n",
       "    <tr>\n",
       "      <th>39799</th>\n",
       "      <td>rp6j88_2</td>\n",
       "      <td>Planning on painting by spring , so cleaning n...</td>\n",
       "      <td>FengShui</td>\n",
       "    </tr>\n",
       "  </tbody>\n",
       "</table>\n",
       "<p>31822 rows × 3 columns</p>\n",
       "</div>"
      ],
      "text/plain": [
       "             id                                               text    origin\n",
       "0      x6d5qc_0  I was bullied by girls all my life but I would...  bullying\n",
       "1      x6d5qc_1  They can't even bully rightly like verbally as...  bullying\n",
       "2      x6d5qc_2  Nothing\\nThey can't even bully rightly \\nAlso ...  bullying\n",
       "3      x6d5qc_3  \\nAlso don't watch a woman's cunt only a man's...  bullying\n",
       "5      vcbknn_0  \"Bullying is coercion--Implicit or explicit th...  bullying\n",
       "...         ...                                                ...       ...\n",
       "39790  rpabe4_2  In other words, all the other houses on that s...  FengShui\n",
       "39796  rpabe4_8  width=3371&amp;format=png&amp;auto=webp&amp;s=...  FengShui\n",
       "39797  rp6j88_0   Just wondering if anyone else is doing a deep...  FengShui\n",
       "39798  rp6j88_1  I got into the cleaning spirit on bedroom clos...  FengShui\n",
       "39799  rp6j88_2  Planning on painting by spring , so cleaning n...  FengShui\n",
       "\n",
       "[31822 rows x 3 columns]"
      ]
     },
     "execution_count": 30,
     "metadata": {},
     "output_type": "execute_result"
    }
   ],
   "source": [
    "filtered_sentences"
   ]
  },
  {
   "cell_type": "code",
   "execution_count": 41,
   "metadata": {},
   "outputs": [],
   "source": [
    "from sklearn.model_selection import train_test_split\n",
    "from sklearn.preprocessing import FunctionTransformer\n",
    "\n",
    "train_data, test_data = train_test_split(filtered_sentences, test_size=0.2, random_state=42, shuffle=True)\n",
    "\n",
    "# There are better, more expensive models: https://www.sbert.net/docs/pretrained_models.html\n",
    "model = SentenceTransformer('all-MiniLM-L6-v2')\n",
    "\n",
    "encoder = FunctionTransformer(lambda row: model.encode(row['text'].values))"
   ]
  },
  {
   "cell_type": "code",
   "execution_count": 42,
   "metadata": {},
   "outputs": [],
   "source": [
    "X_train = encoder.transform(train_data)"
   ]
  },
  {
   "cell_type": "code",
   "execution_count": 43,
   "metadata": {},
   "outputs": [],
   "source": [
    "X_test = encoder.transform(test_data)"
   ]
  },
  {
   "cell_type": "code",
   "execution_count": 62,
   "metadata": {},
   "outputs": [],
   "source": [
    "from tensorflow.keras.layers import Dense  # pylint: disable=no-name-in-module\n",
    "from tensorflow.keras.models import Sequential  # pylint: disable=no-name-in-module\n",
    "from tensorflow.python.keras.optimizer_v2.gradient_descent import SGD  # pylint: disable=no-name-in-module\n",
    "from tensorflow.python.keras.wrappers.scikit_learn import KerasClassifier  # pylint: disable=no-name-in-module\n",
    "\n",
    "def create_model(input_dim=384):\n",
    "    clf = Sequential()\n",
    "    clf.add(Dense(16, activation='relu', input_dim=input_dim))\n",
    "    clf.add(Dense(8, activation='relu'))\n",
    "    clf.add(Dense(2, activation='softmax'))\n",
    "    clf.compile(loss='categorical_crossentropy', optimizer=SGD(), metrics=[\"accuracy\"])\n",
    "    return clf\n",
    "\n",
    "neuralnet = KerasClassifier(build_fn=create_model, epochs=20, batch_size=64, verbose=1)"
   ]
  },
  {
   "cell_type": "code",
   "execution_count": 67,
   "metadata": {},
   "outputs": [],
   "source": [
    "y_train = np.array(train_data.origin.isin(['bullying', 'depression']))\n",
    "y_test = np.array(test_data.origin.isin(['bullying', 'depression']))"
   ]
  },
  {
   "cell_type": "code",
   "execution_count": 68,
   "metadata": {},
   "outputs": [
    {
     "name": "stdout",
     "output_type": "stream",
     "text": [
      "Epoch 1/20\n",
      "398/398 [==============================] - 0s 638us/step - loss: 0.6672 - accuracy: 0.6195\n",
      "Epoch 2/20\n",
      "398/398 [==============================] - 0s 640us/step - loss: 0.6600 - accuracy: 0.6206\n",
      "Epoch 3/20\n",
      "398/398 [==============================] - 0s 530us/step - loss: 0.6563 - accuracy: 0.6206\n",
      "Epoch 4/20\n",
      "398/398 [==============================] - 0s 600us/step - loss: 0.6508 - accuracy: 0.6206\n",
      "Epoch 5/20\n",
      "398/398 [==============================] - 0s 582us/step - loss: 0.6423 - accuracy: 0.6206\n",
      "Epoch 6/20\n",
      "398/398 [==============================] - 0s 592us/step - loss: 0.6300 - accuracy: 0.6206\n",
      "Epoch 7/20\n",
      "398/398 [==============================] - 0s 547us/step - loss: 0.6138 - accuracy: 0.6277\n",
      "Epoch 8/20\n",
      "398/398 [==============================] - 0s 555us/step - loss: 0.5954 - accuracy: 0.6688\n",
      "Epoch 9/20\n",
      "398/398 [==============================] - 0s 540us/step - loss: 0.5775 - accuracy: 0.6998\n",
      "Epoch 10/20\n",
      "398/398 [==============================] - 0s 550us/step - loss: 0.5627 - accuracy: 0.7167\n",
      "Epoch 11/20\n",
      "398/398 [==============================] - 0s 518us/step - loss: 0.5516 - accuracy: 0.7262\n",
      "Epoch 12/20\n",
      "398/398 [==============================] - 0s 570us/step - loss: 0.5436 - accuracy: 0.7312\n",
      "Epoch 13/20\n",
      "398/398 [==============================] - 0s 557us/step - loss: 0.5377 - accuracy: 0.7350\n",
      "Epoch 14/20\n",
      "398/398 [==============================] - 0s 501us/step - loss: 0.5333 - accuracy: 0.7370\n",
      "Epoch 15/20\n",
      "398/398 [==============================] - 0s 558us/step - loss: 0.5298 - accuracy: 0.7384\n",
      "Epoch 16/20\n",
      "398/398 [==============================] - 0s 546us/step - loss: 0.5268 - accuracy: 0.7400\n",
      "Epoch 17/20\n",
      "398/398 [==============================] - 0s 551us/step - loss: 0.5244 - accuracy: 0.7415\n",
      "Epoch 18/20\n",
      "398/398 [==============================] - 0s 506us/step - loss: 0.5222 - accuracy: 0.7425\n",
      "Epoch 19/20\n",
      "398/398 [==============================] - 0s 555us/step - loss: 0.5206 - accuracy: 0.7431\n",
      "Epoch 20/20\n",
      "398/398 [==============================] - 0s 558us/step - loss: 0.5189 - accuracy: 0.7454\n"
     ]
    },
    {
     "data": {
      "text/plain": [
       "<tensorflow.python.keras.callbacks.History at 0x1670cbe20>"
      ]
     },
     "execution_count": 68,
     "metadata": {},
     "output_type": "execute_result"
    }
   ],
   "source": [
    "neuralnet.fit(X_train, y_train)"
   ]
  },
  {
   "cell_type": "code",
   "execution_count": 69,
   "metadata": {},
   "outputs": [
    {
     "name": "stdout",
     "output_type": "stream",
     "text": [
      "100/100 [==============================] - 0s 970us/step - loss: 0.5139 - accuracy: 0.7461\n"
     ]
    },
    {
     "data": {
      "text/plain": [
       "0.7461115717887878"
      ]
     },
     "execution_count": 69,
     "metadata": {},
     "output_type": "execute_result"
    }
   ],
   "source": [
    "neuralnet.score(X_test, y_test)"
   ]
  },
  {
   "cell_type": "code",
   "execution_count": null,
   "metadata": {},
   "outputs": [],
   "source": []
  }
 ],
 "metadata": {
  "kernelspec": {
   "display_name": "Python 3 (ipykernel)",
   "language": "python",
   "name": "python3"
  },
  "language_info": {
   "codemirror_mode": {
    "name": "ipython",
    "version": 3
   },
   "file_extension": ".py",
   "mimetype": "text/x-python",
   "name": "python",
   "nbconvert_exporter": "python",
   "pygments_lexer": "ipython3",
   "version": "3.9.13"
  }
 },
 "nbformat": 4,
 "nbformat_minor": 4
}
