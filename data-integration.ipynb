{
 "cells": [
  {
   "cell_type": "code",
   "execution_count": 1,
   "metadata": {},
   "outputs": [],
   "source": [
    "import pandas as pd\n",
    "import numpy as np\n",
    "from sklearn.pipeline import Pipeline\n",
    "from sklearn.preprocessing import StandardScaler, OneHotEncoder\n",
    "from sklearn.compose import ColumnTransformer\n",
    "from sklearn.tree import DecisionTreeClassifier\n",
    "# requires pip install sentence-transformers==2.2.2\n",
    "from sentence_transformers import SentenceTransformer\n",
    "\n",
    "table_a = pd.read_csv('Walmart-Amazon/tableA.csv')\n",
    "table_b = pd.read_csv('Walmart-Amazon/tableB.csv')\n",
    "\n",
    "train_pairs = pd.read_csv('Walmart-Amazon/train.csv').sample(frac=0.01)\n",
    "test_pairs = pd.read_csv('Walmart-Amazon/test.csv')"
   ]
  },
  {
   "cell_type": "code",
   "execution_count": 2,
   "metadata": {},
   "outputs": [],
   "source": [
    "def join_and_prepare(pairs, table_a, table_b):\n",
    "    data = pairs.merge(table_a, left_on='ltable_id', right_on='id')\n",
    "    data = data.merge(table_b, left_on='rtable_id', right_on='id', suffixes=['_a', '_b'])\n",
    "    data = data.fillna('')\n",
    "    data['category_match'] = data['category_a'] == data['category_b']\n",
    "    data['brand_match'] = data['brand_a'] == data['brand_b']    \n",
    "    return data"
   ]
  },
  {
   "cell_type": "code",
   "execution_count": 3,
   "metadata": {},
   "outputs": [],
   "source": [
    "train_data = join_and_prepare(train_pairs, table_a, table_b)\n",
    "test_data = join_and_prepare(test_pairs, table_a, table_b)"
   ]
  },
  {
   "cell_type": "code",
   "execution_count": 4,
   "metadata": {},
   "outputs": [],
   "source": [
    "from sklearn.preprocessing import FunctionTransformer\n",
    "# requires textdistance==\"4.5.0\"\n",
    "from textdistance import levenshtein\n",
    "\n",
    "\n",
    "def bert_distance(df):\n",
    "    # There are better, more expensive models: https://www.sbert.net/docs/pretrained_models.html    \n",
    "    bert = SentenceTransformer('all-MiniLM-L6-v2')\n",
    "    column_a, column_b = df.columns\n",
    "    encodings_a = bert.encode(df[column_a])\n",
    "    encodings_b = bert.encode(df[column_b])\n",
    "    distances = np.linalg.norm(encodings_a - encodings_b, axis=1)\n",
    "    distances = distances.reshape((len(df), 1))\n",
    "    return distances\n",
    "    \n",
    "\n",
    "def levenshtein_distance(df):\n",
    "    column_a, column_b = df.columns\n",
    "    df['levenshtein'] = df.apply(lambda row: levenshtein.distance(row[column_a],  row[column_b]), axis=1)\n",
    "    distances = df['levenshtein'].values\n",
    "    distances = distances.reshape((len(df), 1))\n",
    "    return distances\n",
    "    \n",
    "\n",
    "def length_diff(df):\n",
    "    column_a, column_b = df.columns\n",
    "    df['len'] = df.apply(lambda row: abs(len(row[column_a]) - len(row[column_b])), axis=1)\n",
    "    distances = df['len'].values    \n",
    "    distances = distances.reshape((len(df), 1))\n",
    "    return distances    \n",
    "\n",
    "    \n",
    "lev = FunctionTransformer(levenshtein_distance)\n",
    "le  = FunctionTransformer(length_diff) \n",
    "\n",
    "pipeline = Pipeline([\n",
    "    ('columntransformer', ColumnTransformer([\n",
    "            ('bert', FunctionTransformer(bert_distance), ['title_a', 'title_b']),                \n",
    "            ('levenshtein', FunctionTransformer(levenshtein_distance), ['title_a', 'title_b']),\n",
    "            ('length', FunctionTransformer(length_diff) , ['title_a', 'title_b']),        \n",
    "            ('categorical', OneHotEncoder(), ['category_match', 'brand_match']),\n",
    "    ])),\n",
    "    ('decisiontreeclassifier', DecisionTreeClassifier(random_state=0))])\n"
   ]
  },
  {
   "cell_type": "code",
   "execution_count": 5,
   "metadata": {},
   "outputs": [],
   "source": [
    "model = pipeline.fit(train_data, train_data['label'])"
   ]
  },
  {
   "cell_type": "code",
   "execution_count": null,
   "metadata": {},
   "outputs": [],
   "source": [
    "model.score(test_data, test_data['label'])"
   ]
  },
  {
   "cell_type": "code",
   "execution_count": null,
   "metadata": {},
   "outputs": [],
   "source": []
  }
 ],
 "metadata": {
  "kernelspec": {
   "display_name": "Python 3 (ipykernel)",
   "language": "python",
   "name": "python3"
  },
  "language_info": {
   "codemirror_mode": {
    "name": "ipython",
    "version": 3
   },
   "file_extension": ".py",
   "mimetype": "text/x-python",
   "name": "python",
   "nbconvert_exporter": "python",
   "pygments_lexer": "ipython3",
   "version": "3.9.13"
  }
 },
 "nbformat": 4,
 "nbformat_minor": 4
}
