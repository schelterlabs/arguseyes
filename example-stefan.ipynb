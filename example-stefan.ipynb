{
 "cells": [
  {
   "cell_type": "code",
   "execution_count": 11,
   "metadata": {},
   "outputs": [],
   "source": [
    "import numpy as np\n",
    "import pandas as pd"
   ]
  },
  {
   "cell_type": "code",
   "execution_count": 19,
   "metadata": {},
   "outputs": [],
   "source": [
    "def generate_data(num_records):\n",
    "\n",
    "    data = []\n",
    "    \n",
    "    for _ in range(0, num_records):\n",
    "        smokes = np.random.rand() > 0.75\n",
    "\n",
    "        is_male = np.random.rand() > 0.5\n",
    "        if is_male:\n",
    "            weight = np.random.normal(loc=80, scale=5.0)\n",
    "        else:\n",
    "            weight = np.random.normal(loc=60, scale=3.0)\n",
    "\n",
    "        complication_prob = 0.20    \n",
    "\n",
    "        if smokes:\n",
    "               complication_prob += 0.10\n",
    "\n",
    "        if is_male and weight > 90:     \n",
    "               complication_prob += 0.20\n",
    "\n",
    "        if weight < 45:            \n",
    "               complication_prob += 0.10                    \n",
    "\n",
    "        notes = \"\"\n",
    "        if complication_prob > 0.20 and np.random.rand() > 0.6:\n",
    "            notes = \"high risk\"\n",
    "\n",
    "        has_complication = np.random.rand() < complication_prob       \n",
    "\n",
    "        smokes_cat = 'no'\n",
    "        if smokes:\n",
    "            smokes_cat = 'yes'\n",
    "        \n",
    "        data.append((smokes_cat, weight, notes, has_complication))\n",
    "    \n",
    "    return pd.DataFrame.from_records(data, columns=['smokes', 'weight', 'notes', 'has_complication'])"
   ]
  },
  {
   "cell_type": "code",
   "execution_count": 20,
   "metadata": {},
   "outputs": [
    {
     "data": {
      "text/html": [
       "<div>\n",
       "<style scoped>\n",
       "    .dataframe tbody tr th:only-of-type {\n",
       "        vertical-align: middle;\n",
       "    }\n",
       "\n",
       "    .dataframe tbody tr th {\n",
       "        vertical-align: top;\n",
       "    }\n",
       "\n",
       "    .dataframe thead th {\n",
       "        text-align: right;\n",
       "    }\n",
       "</style>\n",
       "<table border=\"1\" class=\"dataframe\">\n",
       "  <thead>\n",
       "    <tr style=\"text-align: right;\">\n",
       "      <th></th>\n",
       "      <th>smokes</th>\n",
       "      <th>weight</th>\n",
       "      <th>notes</th>\n",
       "      <th>has_complication</th>\n",
       "    </tr>\n",
       "  </thead>\n",
       "  <tbody>\n",
       "    <tr>\n",
       "      <th>0</th>\n",
       "      <td>no</td>\n",
       "      <td>59.802151</td>\n",
       "      <td></td>\n",
       "      <td>False</td>\n",
       "    </tr>\n",
       "    <tr>\n",
       "      <th>1</th>\n",
       "      <td>no</td>\n",
       "      <td>80.313039</td>\n",
       "      <td></td>\n",
       "      <td>False</td>\n",
       "    </tr>\n",
       "    <tr>\n",
       "      <th>2</th>\n",
       "      <td>no</td>\n",
       "      <td>64.794924</td>\n",
       "      <td></td>\n",
       "      <td>False</td>\n",
       "    </tr>\n",
       "    <tr>\n",
       "      <th>3</th>\n",
       "      <td>yes</td>\n",
       "      <td>59.432555</td>\n",
       "      <td></td>\n",
       "      <td>False</td>\n",
       "    </tr>\n",
       "    <tr>\n",
       "      <th>4</th>\n",
       "      <td>yes</td>\n",
       "      <td>78.519597</td>\n",
       "      <td></td>\n",
       "      <td>False</td>\n",
       "    </tr>\n",
       "    <tr>\n",
       "      <th>5</th>\n",
       "      <td>no</td>\n",
       "      <td>84.463416</td>\n",
       "      <td></td>\n",
       "      <td>False</td>\n",
       "    </tr>\n",
       "    <tr>\n",
       "      <th>6</th>\n",
       "      <td>no</td>\n",
       "      <td>56.135506</td>\n",
       "      <td></td>\n",
       "      <td>True</td>\n",
       "    </tr>\n",
       "    <tr>\n",
       "      <th>7</th>\n",
       "      <td>yes</td>\n",
       "      <td>63.849577</td>\n",
       "      <td></td>\n",
       "      <td>False</td>\n",
       "    </tr>\n",
       "    <tr>\n",
       "      <th>8</th>\n",
       "      <td>no</td>\n",
       "      <td>60.237643</td>\n",
       "      <td></td>\n",
       "      <td>False</td>\n",
       "    </tr>\n",
       "    <tr>\n",
       "      <th>9</th>\n",
       "      <td>no</td>\n",
       "      <td>71.575839</td>\n",
       "      <td></td>\n",
       "      <td>False</td>\n",
       "    </tr>\n",
       "  </tbody>\n",
       "</table>\n",
       "</div>"
      ],
      "text/plain": [
       "  smokes     weight notes  has_complication\n",
       "0     no  59.802151                   False\n",
       "1     no  80.313039                   False\n",
       "2     no  64.794924                   False\n",
       "3    yes  59.432555                   False\n",
       "4    yes  78.519597                   False\n",
       "5     no  84.463416                   False\n",
       "6     no  56.135506                    True\n",
       "7    yes  63.849577                   False\n",
       "8     no  60.237643                   False\n",
       "9     no  71.575839                   False"
      ]
     },
     "execution_count": 20,
     "metadata": {},
     "output_type": "execute_result"
    }
   ],
   "source": [
    "generate_data(10)"
   ]
  },
  {
   "cell_type": "code",
   "execution_count": 18,
   "metadata": {},
   "outputs": [],
   "source": [
    "from sklearn.preprocessing import OneHotEncoder, label_binarize, StandardScaler, FunctionTransformer\n",
    "from sklearn.compose import ColumnTransformer\n",
    "from sklearn.impute import SimpleImputer\n",
    "from sklearn.feature_extraction.text import HashingVectorizer\n",
    "from sklearn.pipeline import Pipeline\n",
    "\n",
    "from tensorflow.python.keras.wrappers.scikit_learn import KerasClassifier\n",
    "from tensorflow.keras.layers import Dense, Dropout\n",
    "from tensorflow.keras.models import Sequential"
   ]
  },
  {
   "cell_type": "code",
   "execution_count": 28,
   "metadata": {},
   "outputs": [],
   "source": [
    "train_data = generate_data(2500)\n",
    "test_data = generate_data(1000)"
   ]
  },
  {
   "cell_type": "code",
   "execution_count": 29,
   "metadata": {},
   "outputs": [
    {
     "name": "stdout",
     "output_type": "stream",
     "text": [
      "Epoch 1/5\n"
     ]
    },
    {
     "name": "stderr",
     "output_type": "stream",
     "text": [
      "/Users/ssc/projects/arguseyes/venv/lib/python3.9/site-packages/tensorflow/python/framework/indexed_slices.py:447: UserWarning: Converting sparse IndexedSlices(IndexedSlices(indices=Tensor(\"gradient_tape/sequential_4/dense_12/embedding_lookup_sparse/Reshape_1:0\", shape=(None,), dtype=int32), values=Tensor(\"gradient_tape/sequential_4/dense_12/embedding_lookup_sparse/Reshape:0\", shape=(None, 8), dtype=float32), dense_shape=Tensor(\"gradient_tape/sequential_4/dense_12/embedding_lookup_sparse/Cast:0\", shape=(2,), dtype=int32))) to a dense Tensor of unknown shape. This may consume a large amount of memory.\n",
      "  warnings.warn(\n"
     ]
    },
    {
     "name": "stdout",
     "output_type": "stream",
     "text": [
      "79/79 [==============================] - 0s 628us/step - loss: 0.7282 - accuracy: 0.4920\n",
      "Epoch 2/5\n",
      "79/79 [==============================] - 0s 605us/step - loss: 0.6513 - accuracy: 0.7252\n",
      "Epoch 3/5\n",
      "79/79 [==============================] - 0s 626us/step - loss: 0.6117 - accuracy: 0.7684\n",
      "Epoch 4/5\n",
      "79/79 [==============================] - 0s 618us/step - loss: 0.5650 - accuracy: 0.7696\n",
      "Epoch 5/5\n",
      "79/79 [==============================] - 0s 619us/step - loss: 0.5451 - accuracy: 0.7696\n",
      "32/32 [==============================] - 0s 575us/step - loss: 0.5370 - accuracy: 0.7730\n"
     ]
    },
    {
     "data": {
      "text/plain": [
       "0.7730000019073486"
      ]
     },
     "execution_count": 29,
     "metadata": {},
     "output_type": "execute_result"
    }
   ],
   "source": [
    "encode = ColumnTransformer(transformers=[\n",
    "    ('numerical_features', StandardScaler(), ['weight']),\n",
    "    ('categorical_features', OneHotEncoder(handle_unknown='ignore'), ['smokes']),\n",
    "    ('textual_features', HashingVectorizer(ngram_range=(1, 2), n_features=10), 'notes')])\n",
    "\n",
    "def create_mlp():\n",
    "    nn = Sequential([\n",
    "        Dense(8, activation='relu'), Dropout(0.3),\n",
    "        Dense(4, activation='relu'),\n",
    "        Dense(2, activation='softmax')])\n",
    "    nn.compile(loss='sparse_categorical_crossentropy', optimizer='adam', metrics='accuracy')\n",
    "    return nn\n",
    "\n",
    "pipeline = Pipeline([\n",
    "    ('features', encode),\n",
    "    ('learner', KerasClassifier(create_mlp, epochs=5))])\n",
    "\n",
    "model = pipeline.fit(train_data, train_data.has_complication)\n",
    "model.score(test_data, test_data.has_complication)"
   ]
  },
  {
   "cell_type": "code",
   "execution_count": 30,
   "metadata": {},
   "outputs": [
    {
     "name": "stdout",
     "output_type": "stream",
     "text": [
      "32/32 [==============================] - 0s 590us/step - loss: 1.7762 - accuracy: 0.6490\n"
     ]
    },
    {
     "data": {
      "text/plain": [
       "0.6489999890327454"
      ]
     },
     "execution_count": 30,
     "metadata": {},
     "output_type": "execute_result"
    }
   ],
   "source": [
    "corrupted_test_data = generate_data(1000)\n",
    "\n",
    "corrupted_test_data.loc[corrupted_test_data.sample(frac=0.2).index, 'weight'] = 0\n",
    "corrupted_test_data.loc[corrupted_test_data.sample(frac=0.2).index, 'weight'] = 1000\n",
    "\n",
    "model.score(corrupted_test_data, corrupted_test_data.has_complication)"
   ]
  },
  {
   "cell_type": "code",
   "execution_count": null,
   "metadata": {},
   "outputs": [],
   "source": []
  }
 ],
 "metadata": {
  "kernelspec": {
   "display_name": "Python 3 (ipykernel)",
   "language": "python",
   "name": "python3"
  },
  "language_info": {
   "codemirror_mode": {
    "name": "ipython",
    "version": 3
   },
   "file_extension": ".py",
   "mimetype": "text/x-python",
   "name": "python",
   "nbconvert_exporter": "python",
   "pygments_lexer": "ipython3",
   "version": "3.9.13"
  }
 },
 "nbformat": 4,
 "nbformat_minor": 4
}
