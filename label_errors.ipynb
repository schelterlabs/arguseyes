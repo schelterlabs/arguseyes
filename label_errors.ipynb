{
 "cells": [
  {
   "cell_type": "code",
   "execution_count": 1,
   "metadata": {},
   "outputs": [],
   "source": [
    "from arguseyes.retrospective import PipelineRun, LabelErrorsRetrospective\n",
    "\n",
    "run = PipelineRun(run_id='55bd2b33ff45444593a0dd2cafdcc469')"
   ]
  },
  {
   "cell_type": "code",
   "execution_count": 2,
   "metadata": {},
   "outputs": [
    {
     "data": {
      "text/markdown": [
       "```Python\n",
       "import numpy as np\n",
       "import pandas as pd\n",
       "\n",
       "from tensorflow.python.keras.wrappers.scikit_learn import KerasClassifier\n",
       "from tensorflow.keras.layers import Dense, Conv2D, MaxPooling2D, Dropout, Flatten\n",
       "from tensorflow.keras.models import Sequential\n",
       "\n",
       "from sklearn.preprocessing import FunctionTransformer, label_binarize\n",
       "from sklearn.pipeline import Pipeline\n",
       "\n",
       "pd.options.mode.chained_assignment = None\n",
       "\n",
       "\n",
       "def decode_image(img_str):\n",
       "    return np.array([int(val) for val in img_str.split(':')])\n",
       "\n",
       "\n",
       "def normalise_image(images):\n",
       "    return images / 255.0\n",
       "\n",
       "\n",
       "def reshape_images(images):\n",
       "    return np.concatenate(images['image'].values) \\\n",
       "        .reshape(images.shape[0], 28, 28, 1)\n",
       "\n",
       "\n",
       "def create_cnn():\n",
       "    model = Sequential([\n",
       "        Conv2D(filters=64, kernel_size=2, padding='same', activation='relu', input_shape=(28, 28, 1)),\n",
       "        MaxPooling2D(pool_size=2),\n",
       "        Dropout(0.3),\n",
       "        Conv2D(filters=32, kernel_size=2, padding='same', activation='relu'),\n",
       "        MaxPooling2D(pool_size=2),\n",
       "        Dropout(0.3),\n",
       "        Flatten(),\n",
       "        Dense(256, activation='relu'),\n",
       "        Dropout(0.5),\n",
       "        Dense(2, activation='softmax')\n",
       "    ])\n",
       "\n",
       "    model.compile(loss='sparse_categorical_crossentropy', optimizer='adam', metrics=['accuracy'])\n",
       "\n",
       "    return model\n",
       "\n",
       "\n",
       "data_location = 'datasets/sneakers'\n",
       "\n",
       "train_data = pd.read_csv(f'{data_location}/product_images_train_with_labelerrors.csv',\n",
       "                         converters={'image': decode_image})\n",
       "test_data = pd.read_csv(f'{data_location}/product_images_test.csv', converters={'image': decode_image})\n",
       "\n",
       "product_categories = pd.read_csv(f'{data_location}/product_categories.csv')\n",
       "train_data_with_categories = train_data.merge(product_categories, on='category_id')\n",
       "test_data_with_categories = test_data.merge(product_categories, on='category_id')\n",
       "\n",
       "categories_to_distinguish = ['Sneaker', 'Ankle boot']\n",
       "\n",
       "train_images = train_data_with_categories[train_data_with_categories['category_name']\\\n",
       "    .isin(categories_to_distinguish)]\n",
       "\n",
       "test_images = test_data_with_categories[test_data_with_categories['category_name']\\\n",
       "    .isin(categories_to_distinguish)]\n",
       "\n",
       "\n",
       "y_train = label_binarize(train_images['category_name'], classes=categories_to_distinguish)\n",
       "y_test = label_binarize(test_images['category_name'], classes=categories_to_distinguish)\n",
       "\n",
       "pipeline = Pipeline(steps=[\n",
       "    ('normalisation', FunctionTransformer(normalise_image)),\n",
       "    ('reshaping', FunctionTransformer(reshape_images)),\n",
       "    ('model', KerasClassifier(create_cnn, epochs=10))\n",
       "])\n",
       "\n",
       "model = pipeline.fit(train_images[['image']], y_train)\n",
       "\n",
       "model.score(test_images[['image']], y_test)\n",
       "\n",
       "```"
      ],
      "text/plain": [
       "<IPython.core.display.Markdown object>"
      ]
     },
     "execution_count": 2,
     "metadata": {},
     "output_type": "execute_result"
    }
   ],
   "source": [
    "run.show_source_code()"
   ]
  },
  {
   "cell_type": "code",
   "execution_count": 3,
   "metadata": {},
   "outputs": [
    {
     "data": {
      "text/markdown": [
       "# Pipeline Data Explorer"
      ],
      "text/plain": [
       "<IPython.core.display.Markdown object>"
      ]
     },
     "metadata": {},
     "output_type": "display_data"
    },
    {
     "data": {
      "application/vnd.jupyter.widget-view+json": {
       "model_id": "fb0b2272e4314e4f9882e0080b7d1aab",
       "version_major": 2,
       "version_minor": 0
      },
      "text/plain": [
       "HBox(children=(CytoscapeWidget(cytoscape_layout={'name': 'dagre'}, cytoscape_style=[{'selector': 'node', 'css'…"
      ]
     },
     "metadata": {},
     "output_type": "display_data"
    }
   ],
   "source": [
    "run.explore_data()"
   ]
  },
  {
   "cell_type": "code",
   "execution_count": null,
   "metadata": {},
   "outputs": [],
   "source": [
    "retrospective = LabelErrorsRetrospective(run)"
   ]
  },
  {
   "cell_type": "code",
   "execution_count": null,
   "metadata": {},
   "outputs": [],
   "source": [
    "images_with_shapley_values = retrospective.load_entity_table_with_shapley_values()\n",
    "images_with_shapley_values"
   ]
  },
  {
   "cell_type": "code",
   "execution_count": null,
   "metadata": {},
   "outputs": [],
   "source": [
    "categories, _ = run.load_input(2)\n",
    "categories"
   ]
  },
  {
   "cell_type": "code",
   "execution_count": null,
   "metadata": {},
   "outputs": [],
   "source": [
    "images_with_shapley_values = images_with_shapley_values.merge(categories, on='category_id')"
   ]
  },
  {
   "cell_type": "code",
   "execution_count": null,
   "metadata": {},
   "outputs": [],
   "source": [
    "def plot_worst_shapley(worst_images):\n",
    "    import matplotlib.pyplot as plt\n",
    "\n",
    "    fig, ax = plt.subplots(1, len(worst_images))\n",
    "\n",
    "\n",
    "    for index, axis in enumerate(ax):\n",
    "        category = worst_images.iloc[index].category_name  \n",
    "        value = worst_images.iloc[index]['__shapley_value']\n",
    "        axis.imshow(worst_images.iloc[index].image.reshape(28, 28, 1), cmap='gray')\n",
    "        axis.set_title(f'Label:\\n{category}\\n\\nShapley\\nvalue:\\n{value:.5f}')\n",
    "        axis.get_xaxis().set_visible(False)\n",
    "        axis.get_yaxis().set_visible(False)\n",
    "\n",
    "\n",
    "    plt.tight_layout()    \n",
    "    fig.set_size_inches(8, 4)\n",
    "    plt.show()"
   ]
  },
  {
   "cell_type": "code",
   "execution_count": null,
   "metadata": {},
   "outputs": [],
   "source": [
    "sneakers = images_with_shapley_values[images_with_shapley_values.category_name=='Sneaker']\n",
    "worst_sneakers = sneakers.sort_values(by=['__shapley_value'])[:7]\n",
    "plot_worst_shapley(worst_sneakers)"
   ]
  },
  {
   "cell_type": "code",
   "execution_count": null,
   "metadata": {},
   "outputs": [],
   "source": [
    "ankleboots = images_with_shapley_values[images_with_shapley_values.category_name=='Ankle boot']\n",
    "worst_ankleboots = ankleboots.sort_values(by=['__shapley_value'])[:7]\n",
    "plot_worst_shapley(worst_ankleboots)"
   ]
  },
  {
   "cell_type": "code",
   "execution_count": null,
   "metadata": {},
   "outputs": [],
   "source": []
  }
 ],
 "metadata": {
  "kernelspec": {
   "display_name": "Python 3 (ipykernel)",
   "language": "python",
   "name": "python3"
  },
  "language_info": {
   "codemirror_mode": {
    "name": "ipython",
    "version": 3
   },
   "file_extension": ".py",
   "mimetype": "text/x-python",
   "name": "python",
   "nbconvert_exporter": "python",
   "pygments_lexer": "ipython3",
   "version": "3.9.13"
  }
 },
 "nbformat": 4,
 "nbformat_minor": 4
}
